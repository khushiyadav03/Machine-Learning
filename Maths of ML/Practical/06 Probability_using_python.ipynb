{
  "nbformat": 4,
  "nbformat_minor": 0,
  "metadata": {
    "colab": {
      "provenance": [],
      "authorship_tag": "ABX9TyNEjA4DffVan3G8ZlHAX1tc",
      "include_colab_link": true
    },
    "kernelspec": {
      "name": "python3",
      "display_name": "Python 3"
    },
    "language_info": {
      "name": "python"
    }
  },
  "cells": [
    {
      "cell_type": "markdown",
      "metadata": {
        "id": "view-in-github",
        "colab_type": "text"
      },
      "source": [
        "<a href=\"https://colab.research.google.com/github/khushiyadav03/Machine-Learning/blob/main/Probability_using_python.ipynb\" target=\"_parent\"><img src=\"https://colab.research.google.com/assets/colab-badge.svg\" alt=\"Open In Colab\"/></a>"
      ]
    },
    {
      "cell_type": "code",
      "execution_count": 1,
      "metadata": {
        "id": "ComPEUSmJWId"
      },
      "outputs": [],
      "source": [
        "import numpy as np"
      ]
    },
    {
      "cell_type": "code",
      "source": [
        "# Hum ek dice ko 1,00,000 baar roll karenge taaki result accurate aaye\n",
        "num_trials = 100000"
      ],
      "metadata": {
        "id": "ro1PmoyuU7vY"
      },
      "execution_count": 2,
      "outputs": []
    },
    {
      "cell_type": "code",
      "source": [
        "# np.random.randint(1, 7) 1 se 6 ke beech ek random number dega.\n",
        "# Hum yeh process 1,00,000 baar repeat kar rahe hain.\n",
        "rolls = np.random.randint(1, 7, size=num_trials)"
      ],
      "metadata": {
        "id": "3AlMsmUoVBJ8"
      },
      "execution_count": 3,
      "outputs": []
    },
    {
      "cell_type": "code",
      "source": [
        "print(f\"Total Rolls (Trials): {num_trials}\")\n",
        "\n",
        "# First 20 rolls dikhate hain taaki idea lage\n",
        "print(f\"Sample of first 20 rolls: {rolls[:20]}\")"
      ],
      "metadata": {
        "colab": {
          "base_uri": "https://localhost:8080/"
        },
        "id": "X0HEucoXVNEO",
        "outputId": "0314e018-9fb6-44ba-bea9-5a780ae9574c"
      },
      "execution_count": 6,
      "outputs": [
        {
          "output_type": "stream",
          "name": "stdout",
          "text": [
            "Total Rolls (Trials): 100000\n",
            "Sample of first 20 rolls: [4 2 6 3 3 3 6 3 1 5 6 5 2 2 2 2 1 1 3 3]\n"
          ]
        }
      ]
    },
    {
      "cell_type": "code",
      "source": [
        "# Event: Dice par '5' aana\n",
        "\n",
        "# Favorable Outcomes: Count karo ki 5 kitni baar aaya\n",
        "favorable_outcomes_5 = np.count_nonzero(rolls == 5)\n",
        "print(f\"Number of times 5 appeared (Favorable Outcomes): {favorable_outcomes_5}\")"
      ],
      "metadata": {
        "colab": {
          "base_uri": "https://localhost:8080/"
        },
        "id": "G-fAu1WCVQ1D",
        "outputId": "05104e55-691e-477c-dee7-44399a8d72b3"
      },
      "execution_count": 7,
      "outputs": [
        {
          "output_type": "stream",
          "name": "stdout",
          "text": [
            "Number of times 5 appeared (Favorable Outcomes): 16561\n"
          ]
        }
      ]
    },
    {
      "cell_type": "code",
      "source": [
        "# Total Outcomes: Yeh num_trials ke barabar hai\n",
        "total_outcomes = num_trials\n",
        "print(f\"Total Possible Outcomes: {total_outcomes}\")"
      ],
      "metadata": {
        "colab": {
          "base_uri": "https://localhost:8080/"
        },
        "id": "kMgljVKTVfen",
        "outputId": "fd595674-9ad3-4df2-dd13-9b7998539859"
      },
      "execution_count": 8,
      "outputs": [
        {
          "output_type": "stream",
          "name": "stdout",
          "text": [
            "Total Possible Outcomes: 100000\n"
          ]
        }
      ]
    },
    {
      "cell_type": "code",
      "source": [
        "# Probability calculate karte hain\n",
        "simulated_probability_5 = favorable_outcomes_5 / total_outcomes\n",
        "theoretical_probability_5 = 1 / 6"
      ],
      "metadata": {
        "id": "JDhqHcKJVoTg"
      },
      "execution_count": 9,
      "outputs": []
    },
    {
      "cell_type": "code",
      "source": [
        "print(f\"\\nSimulated Probability of getting a 5: {simulated_probability_5:.4f}\")\n",
        "print(f\"Theoretical Probability of getting a 5: {theoretical_probability_5:.4f}\")"
      ],
      "metadata": {
        "colab": {
          "base_uri": "https://localhost:8080/"
        },
        "id": "rBF3IWxWVqkj",
        "outputId": "099ad639-84ef-49f9-9aa3-84c2ab70f786"
      },
      "execution_count": 10,
      "outputs": [
        {
          "output_type": "stream",
          "name": "stdout",
          "text": [
            "\n",
            "Simulated Probability of getting a 5: 0.1656\n",
            "Theoretical Probability of getting a 5: 0.1667\n"
          ]
        }
      ]
    },
    {
      "cell_type": "code",
      "source": [
        "# Favorable Outcomes: Count karo ki even numbers kitni baar aaye\n",
        "# roll % 2 == 0 condition even numbers ke liye True return karegi\n",
        "favorable_outcomes_even = np.count_nonzero(rolls % 2 == 0)\n",
        "\n",
        "print(f\"Number of times an even number appeared (Favorable Outcomes): {favorable_outcomes_even}\")"
      ],
      "metadata": {
        "colab": {
          "base_uri": "https://localhost:8080/"
        },
        "id": "wZOcoQ-YVubB",
        "outputId": "e3287153-b241-4703-df4e-1bd44096e2c6"
      },
      "execution_count": 12,
      "outputs": [
        {
          "output_type": "stream",
          "name": "stdout",
          "text": [
            "Number of times an even number appeared (Favorable Outcomes): 49966\n"
          ]
        }
      ]
    },
    {
      "cell_type": "code",
      "source": [
        "# Probability calculate karte hain\n",
        "simulated_probability_even = favorable_outcomes_even / total_outcomes\n",
        "theoretical_probability_even = 3 / 6 # (kyunki 3 favorable outcomes hain: 2, 4, 6)\n",
        "\n",
        "print(f\"\\nSimulated Probability of getting an even number: {simulated_probability_even:.4f}\")\n",
        "print(f\"Theoretical Probability of getting an even number: {theoretical_probability_even:.4f}\")"
      ],
      "metadata": {
        "colab": {
          "base_uri": "https://localhost:8080/"
        },
        "id": "u5r-JBFqV5il",
        "outputId": "974c3aa2-06c9-45fc-c447-9c8827e41d6e"
      },
      "execution_count": 13,
      "outputs": [
        {
          "output_type": "stream",
          "name": "stdout",
          "text": [
            "\n",
            "Simulated Probability of getting an even number: 0.4997\n",
            "Theoretical Probability of getting an even number: 0.5000\n"
          ]
        }
      ]
    }
  ]
}