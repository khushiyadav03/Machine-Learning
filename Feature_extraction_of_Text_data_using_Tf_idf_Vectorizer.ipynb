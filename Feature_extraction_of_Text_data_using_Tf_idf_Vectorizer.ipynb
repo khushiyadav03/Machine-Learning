{
  "cells": [
    {
      "cell_type": "markdown",
      "metadata": {
        "id": "view-in-github",
        "colab_type": "text"
      },
      "source": [
        "<a href=\"https://colab.research.google.com/github/khushiyadav03/Machine-Learning/blob/main/Feature_extraction_of_Text_data_using_Tf_idf_Vectorizer.ipynb\" target=\"_parent\"><img src=\"https://colab.research.google.com/assets/colab-badge.svg\" alt=\"Open In Colab\"/></a>"
      ]
    },
    {
      "cell_type": "markdown",
      "source": [
        "About the Dataset:\n",
        "\n",
        "1. id: unique id for a news article\n",
        "\n",
        "2. title: the title of a news article\n",
        "\n",
        "3. author: author of the news article\n",
        "\n",
        "4. text: the text of the article; could be incomplete\n",
        "\n",
        "5. label: a label that marks whether the news article is real or fake:\n",
        "* 1: Fake news\n",
        "* 0: real News"
      ],
      "metadata": {
        "id": "P57hCH4nJg8_"
      }
    },
    {
      "cell_type": "code",
      "source": [
        "import numpy as np # Data ko numbers mein handle karne ke liye (for handling data in numbers)\n",
        "import pandas as pd # DataFrames (tables) banane aur un par kaam karne ke liye (for creating and working with DataFrames/tables)\n",
        "import re # Text se patterns dhoondhne aur badalne ke liye (for finding and replacing patterns in text)\n",
        "from nltk.corpus import stopwords # Stopwords (jaise 'the', 'a', 'is') ko use karne ke liye (for using stopwords like 'the', 'a', 'is')\n",
        "from nltk.stem.porter import PorterStemmer # Words ko unki root form mein lane ke liye (like 'acting' to 'act') (for bringing words to their root form)\n",
        "from sklearn.feature_extraction.text import TfidfVectorizer # Text data ko numerical features mein badalne ke liye (for converting text data into numerical features)\n",
        "import nltk # Natural Language Processing (NLP) tasks ke liye (for Natural Language Processing tasks)"
      ],
      "metadata": {
        "id": "wqdx1oWrJgU2"
      },
      "execution_count": 63,
      "outputs": []
    },
    {
      "cell_type": "code",
      "source": [
        "import nltk\n",
        "# Stopwords download karna (Downloading stopwords)\n",
        "# Ye ek baar hi karna hota hai (This needs to be done only once)\n",
        "nltk.download('stopwords')"
      ],
      "metadata": {
        "colab": {
          "base_uri": "https://localhost:8080/"
        },
        "id": "52SzVA2fJ6tV",
        "outputId": "5e1d8bff-a313-4342-d7a2-9323379716ba"
      },
      "execution_count": 64,
      "outputs": [
        {
          "output_type": "stream",
          "name": "stderr",
          "text": [
            "[nltk_data] Downloading package stopwords to /root/nltk_data...\n",
            "[nltk_data]   Package stopwords is already up-to-date!\n"
          ]
        },
        {
          "output_type": "execute_result",
          "data": {
            "text/plain": [
              "True"
            ]
          },
          "metadata": {},
          "execution_count": 64
        }
      ]
    },
    {
      "cell_type": "code",
      "source": [
        "# English language ke stopwords print karna (Printing the stopwords in English language)\n",
        "print(stopwords.words('english'))"
      ],
      "metadata": {
        "colab": {
          "base_uri": "https://localhost:8080/"
        },
        "id": "25DlI-qZKCqy",
        "outputId": "d74a57cc-ec3a-44cb-e213-73ff5f2a80d5"
      },
      "execution_count": 65,
      "outputs": [
        {
          "output_type": "stream",
          "name": "stdout",
          "text": [
            "['a', 'about', 'above', 'after', 'again', 'against', 'ain', 'all', 'am', 'an', 'and', 'any', 'are', 'aren', \"aren't\", 'as', 'at', 'be', 'because', 'been', 'before', 'being', 'below', 'between', 'both', 'but', 'by', 'can', 'couldn', \"couldn't\", 'd', 'did', 'didn', \"didn't\", 'do', 'does', 'doesn', \"doesn't\", 'doing', 'don', \"don't\", 'down', 'during', 'each', 'few', 'for', 'from', 'further', 'had', 'hadn', \"hadn't\", 'has', 'hasn', \"hasn't\", 'have', 'haven', \"haven't\", 'having', 'he', \"he'd\", \"he'll\", 'her', 'here', 'hers', 'herself', \"he's\", 'him', 'himself', 'his', 'how', 'i', \"i'd\", 'if', \"i'll\", \"i'm\", 'in', 'into', 'is', 'isn', \"isn't\", 'it', \"it'd\", \"it'll\", \"it's\", 'its', 'itself', \"i've\", 'just', 'll', 'm', 'ma', 'me', 'mightn', \"mightn't\", 'more', 'most', 'mustn', \"mustn't\", 'my', 'myself', 'needn', \"needn't\", 'no', 'nor', 'not', 'now', 'o', 'of', 'off', 'on', 'once', 'only', 'or', 'other', 'our', 'ours', 'ourselves', 'out', 'over', 'own', 're', 's', 'same', 'shan', \"shan't\", 'she', \"she'd\", \"she'll\", \"she's\", 'should', 'shouldn', \"shouldn't\", \"should've\", 'so', 'some', 'such', 't', 'than', 'that', \"that'll\", 'the', 'their', 'theirs', 'them', 'themselves', 'then', 'there', 'these', 'they', \"they'd\", \"they'll\", \"they're\", \"they've\", 'this', 'those', 'through', 'to', 'too', 'under', 'until', 'up', 've', 'very', 'was', 'wasn', \"wasn't\", 'we', \"we'd\", \"we'll\", \"we're\", 'were', 'weren', \"weren't\", \"we've\", 'what', 'when', 'where', 'which', 'while', 'who', 'whom', 'why', 'will', 'with', 'won', \"won't\", 'wouldn', \"wouldn't\", 'y', 'you', \"you'd\", \"you'll\", 'your', \"you're\", 'yours', 'yourself', 'yourselves', \"you've\"]\n"
          ]
        }
      ]
    },
    {
      "cell_type": "markdown",
      "source": [
        "Data Pre-processing"
      ],
      "metadata": {
        "id": "UaQno-_ZKZcQ"
      }
    },
    {
      "cell_type": "code",
      "source": [
        "# loading the dataset to a pandas dataframe\n",
        "news_dataset = pd.read_csv('/content/fake_news_dataset.csv', encoding='latin-1', engine='python', on_bad_lines='skip')"
      ],
      "metadata": {
        "id": "aNUNFHRIKX5p"
      },
      "execution_count": 37,
      "outputs": []
    },
    {
      "cell_type": "code",
      "source": [
        "news_dataset.shape"
      ],
      "metadata": {
        "colab": {
          "base_uri": "https://localhost:8080/"
        },
        "id": "VfwAtqjwKutI",
        "outputId": "b94bbbc4-ae57-4ecd-c08d-e717dc8a03a8"
      },
      "execution_count": 38,
      "outputs": [
        {
          "output_type": "execute_result",
          "data": {
            "text/plain": [
              "(18383, 5)"
            ]
          },
          "metadata": {},
          "execution_count": 38
        }
      ]
    },
    {
      "cell_type": "code",
      "source": [
        "news_dataset.head()"
      ],
      "metadata": {
        "colab": {
          "base_uri": "https://localhost:8080/",
          "height": 379
        },
        "id": "a7805eQFOdyX",
        "outputId": "f336939e-a5e6-4f08-bea2-6c886416fcd3"
      },
      "execution_count": 39,
      "outputs": [
        {
          "output_type": "execute_result",
          "data": {
            "text/plain": [
              "  id                                              title              author  \\\n",
              "0  0  House Dem Aide: We Didnât Even See Comeyâs...       Darrell Lucus   \n",
              "1  1  FLYNN: Hillary Clinton, Big Woman on Campus - ...     Daniel J. Flynn   \n",
              "2  2                  Why the Truth Might Get You Fired  Consortiumnews.com   \n",
              "3  3  15 Civilians Killed In Single US Airstrike Hav...     Jessica Purkiss   \n",
              "4  4  Iranian woman jailed for fictional unpublished...      Howard Portnoy   \n",
              "\n",
              "                                                text  label  \n",
              "0  House Dem Aide: We Didnât Even See Comeyâs...    1.0  \n",
              "1  Ever get the feeling your life circles the rou...    0.0  \n",
              "2  Why the Truth Might Get You Fired October 29, ...    1.0  \n",
              "3  Videos 15 Civilians Killed In Single US Airstr...    1.0  \n",
              "4  Print \\nAn Iranian woman has been sentenced to...    1.0  "
            ],
            "text/html": [
              "\n",
              "  <div id=\"df-3beb4884-8bbd-476d-961d-504652f2008c\" class=\"colab-df-container\">\n",
              "    <div>\n",
              "<style scoped>\n",
              "    .dataframe tbody tr th:only-of-type {\n",
              "        vertical-align: middle;\n",
              "    }\n",
              "\n",
              "    .dataframe tbody tr th {\n",
              "        vertical-align: top;\n",
              "    }\n",
              "\n",
              "    .dataframe thead th {\n",
              "        text-align: right;\n",
              "    }\n",
              "</style>\n",
              "<table border=\"1\" class=\"dataframe\">\n",
              "  <thead>\n",
              "    <tr style=\"text-align: right;\">\n",
              "      <th></th>\n",
              "      <th>id</th>\n",
              "      <th>title</th>\n",
              "      <th>author</th>\n",
              "      <th>text</th>\n",
              "      <th>label</th>\n",
              "    </tr>\n",
              "  </thead>\n",
              "  <tbody>\n",
              "    <tr>\n",
              "      <th>0</th>\n",
              "      <td>0</td>\n",
              "      <td>House Dem Aide: We Didnât Even See Comeyâs...</td>\n",
              "      <td>Darrell Lucus</td>\n",
              "      <td>House Dem Aide: We Didnât Even See Comeyâs...</td>\n",
              "      <td>1.0</td>\n",
              "    </tr>\n",
              "    <tr>\n",
              "      <th>1</th>\n",
              "      <td>1</td>\n",
              "      <td>FLYNN: Hillary Clinton, Big Woman on Campus - ...</td>\n",
              "      <td>Daniel J. Flynn</td>\n",
              "      <td>Ever get the feeling your life circles the rou...</td>\n",
              "      <td>0.0</td>\n",
              "    </tr>\n",
              "    <tr>\n",
              "      <th>2</th>\n",
              "      <td>2</td>\n",
              "      <td>Why the Truth Might Get You Fired</td>\n",
              "      <td>Consortiumnews.com</td>\n",
              "      <td>Why the Truth Might Get You Fired October 29, ...</td>\n",
              "      <td>1.0</td>\n",
              "    </tr>\n",
              "    <tr>\n",
              "      <th>3</th>\n",
              "      <td>3</td>\n",
              "      <td>15 Civilians Killed In Single US Airstrike Hav...</td>\n",
              "      <td>Jessica Purkiss</td>\n",
              "      <td>Videos 15 Civilians Killed In Single US Airstr...</td>\n",
              "      <td>1.0</td>\n",
              "    </tr>\n",
              "    <tr>\n",
              "      <th>4</th>\n",
              "      <td>4</td>\n",
              "      <td>Iranian woman jailed for fictional unpublished...</td>\n",
              "      <td>Howard Portnoy</td>\n",
              "      <td>Print \\nAn Iranian woman has been sentenced to...</td>\n",
              "      <td>1.0</td>\n",
              "    </tr>\n",
              "  </tbody>\n",
              "</table>\n",
              "</div>\n",
              "    <div class=\"colab-df-buttons\">\n",
              "\n",
              "  <div class=\"colab-df-container\">\n",
              "    <button class=\"colab-df-convert\" onclick=\"convertToInteractive('df-3beb4884-8bbd-476d-961d-504652f2008c')\"\n",
              "            title=\"Convert this dataframe to an interactive table.\"\n",
              "            style=\"display:none;\">\n",
              "\n",
              "  <svg xmlns=\"http://www.w3.org/2000/svg\" height=\"24px\" viewBox=\"0 -960 960 960\">\n",
              "    <path d=\"M120-120v-720h720v720H120Zm60-500h600v-160H180v160Zm220 220h160v-160H400v160Zm0 220h160v-160H400v160ZM180-400h160v-160H180v160Zm440 0h160v-160H620v160ZM180-180h160v-160H180v160Zm440 0h160v-160H620v160Z\"/>\n",
              "  </svg>\n",
              "    </button>\n",
              "\n",
              "  <style>\n",
              "    .colab-df-container {\n",
              "      display:flex;\n",
              "      gap: 12px;\n",
              "    }\n",
              "\n",
              "    .colab-df-convert {\n",
              "      background-color: #E8F0FE;\n",
              "      border: none;\n",
              "      border-radius: 50%;\n",
              "      cursor: pointer;\n",
              "      display: none;\n",
              "      fill: #1967D2;\n",
              "      height: 32px;\n",
              "      padding: 0 0 0 0;\n",
              "      width: 32px;\n",
              "    }\n",
              "\n",
              "    .colab-df-convert:hover {\n",
              "      background-color: #E2EBFA;\n",
              "      box-shadow: 0px 1px 2px rgba(60, 64, 67, 0.3), 0px 1px 3px 1px rgba(60, 64, 67, 0.15);\n",
              "      fill: #174EA6;\n",
              "    }\n",
              "\n",
              "    .colab-df-buttons div {\n",
              "      margin-bottom: 4px;\n",
              "    }\n",
              "\n",
              "    [theme=dark] .colab-df-convert {\n",
              "      background-color: #3B4455;\n",
              "      fill: #D2E3FC;\n",
              "    }\n",
              "\n",
              "    [theme=dark] .colab-df-convert:hover {\n",
              "      background-color: #434B5C;\n",
              "      box-shadow: 0px 1px 3px 1px rgba(0, 0, 0, 0.15);\n",
              "      filter: drop-shadow(0px 1px 2px rgba(0, 0, 0, 0.3));\n",
              "      fill: #FFFFFF;\n",
              "    }\n",
              "  </style>\n",
              "\n",
              "    <script>\n",
              "      const buttonEl =\n",
              "        document.querySelector('#df-3beb4884-8bbd-476d-961d-504652f2008c button.colab-df-convert');\n",
              "      buttonEl.style.display =\n",
              "        google.colab.kernel.accessAllowed ? 'block' : 'none';\n",
              "\n",
              "      async function convertToInteractive(key) {\n",
              "        const element = document.querySelector('#df-3beb4884-8bbd-476d-961d-504652f2008c');\n",
              "        const dataTable =\n",
              "          await google.colab.kernel.invokeFunction('convertToInteractive',\n",
              "                                                    [key], {});\n",
              "        if (!dataTable) return;\n",
              "\n",
              "        const docLinkHtml = 'Like what you see? Visit the ' +\n",
              "          '<a target=\"_blank\" href=https://colab.research.google.com/notebooks/data_table.ipynb>data table notebook</a>'\n",
              "          + ' to learn more about interactive tables.';\n",
              "        element.innerHTML = '';\n",
              "        dataTable['output_type'] = 'display_data';\n",
              "        await google.colab.output.renderOutput(dataTable, element);\n",
              "        const docLink = document.createElement('div');\n",
              "        docLink.innerHTML = docLinkHtml;\n",
              "        element.appendChild(docLink);\n",
              "      }\n",
              "    </script>\n",
              "  </div>\n",
              "\n",
              "\n",
              "    <div id=\"df-65486cd4-9ee2-4e9e-ab81-0690f004730e\">\n",
              "      <button class=\"colab-df-quickchart\" onclick=\"quickchart('df-65486cd4-9ee2-4e9e-ab81-0690f004730e')\"\n",
              "                title=\"Suggest charts\"\n",
              "                style=\"display:none;\">\n",
              "\n",
              "<svg xmlns=\"http://www.w3.org/2000/svg\" height=\"24px\"viewBox=\"0 0 24 24\"\n",
              "     width=\"24px\">\n",
              "    <g>\n",
              "        <path d=\"M19 3H5c-1.1 0-2 .9-2 2v14c0 1.1.9 2 2 2h14c1.1 0 2-.9 2-2V5c0-1.1-.9-2-2-2zM9 17H7v-7h2v7zm4 0h-2V7h2v10zm4 0h-2v-4h2v4z\"/>\n",
              "    </g>\n",
              "</svg>\n",
              "      </button>\n",
              "\n",
              "<style>\n",
              "  .colab-df-quickchart {\n",
              "      --bg-color: #E8F0FE;\n",
              "      --fill-color: #1967D2;\n",
              "      --hover-bg-color: #E2EBFA;\n",
              "      --hover-fill-color: #174EA6;\n",
              "      --disabled-fill-color: #AAA;\n",
              "      --disabled-bg-color: #DDD;\n",
              "  }\n",
              "\n",
              "  [theme=dark] .colab-df-quickchart {\n",
              "      --bg-color: #3B4455;\n",
              "      --fill-color: #D2E3FC;\n",
              "      --hover-bg-color: #434B5C;\n",
              "      --hover-fill-color: #FFFFFF;\n",
              "      --disabled-bg-color: #3B4455;\n",
              "      --disabled-fill-color: #666;\n",
              "  }\n",
              "\n",
              "  .colab-df-quickchart {\n",
              "    background-color: var(--bg-color);\n",
              "    border: none;\n",
              "    border-radius: 50%;\n",
              "    cursor: pointer;\n",
              "    display: none;\n",
              "    fill: var(--fill-color);\n",
              "    height: 32px;\n",
              "    padding: 0;\n",
              "    width: 32px;\n",
              "  }\n",
              "\n",
              "  .colab-df-quickchart:hover {\n",
              "    background-color: var(--hover-bg-color);\n",
              "    box-shadow: 0 1px 2px rgba(60, 64, 67, 0.3), 0 1px 3px 1px rgba(60, 64, 67, 0.15);\n",
              "    fill: var(--button-hover-fill-color);\n",
              "  }\n",
              "\n",
              "  .colab-df-quickchart-complete:disabled,\n",
              "  .colab-df-quickchart-complete:disabled:hover {\n",
              "    background-color: var(--disabled-bg-color);\n",
              "    fill: var(--disabled-fill-color);\n",
              "    box-shadow: none;\n",
              "  }\n",
              "\n",
              "  .colab-df-spinner {\n",
              "    border: 2px solid var(--fill-color);\n",
              "    border-color: transparent;\n",
              "    border-bottom-color: var(--fill-color);\n",
              "    animation:\n",
              "      spin 1s steps(1) infinite;\n",
              "  }\n",
              "\n",
              "  @keyframes spin {\n",
              "    0% {\n",
              "      border-color: transparent;\n",
              "      border-bottom-color: var(--fill-color);\n",
              "      border-left-color: var(--fill-color);\n",
              "    }\n",
              "    20% {\n",
              "      border-color: transparent;\n",
              "      border-left-color: var(--fill-color);\n",
              "      border-top-color: var(--fill-color);\n",
              "    }\n",
              "    30% {\n",
              "      border-color: transparent;\n",
              "      border-left-color: var(--fill-color);\n",
              "      border-top-color: var(--fill-color);\n",
              "      border-right-color: var(--fill-color);\n",
              "    }\n",
              "    40% {\n",
              "      border-color: transparent;\n",
              "      border-right-color: var(--fill-color);\n",
              "      border-top-color: var(--fill-color);\n",
              "    }\n",
              "    60% {\n",
              "      border-color: transparent;\n",
              "      border-right-color: var(--fill-color);\n",
              "    }\n",
              "    80% {\n",
              "      border-color: transparent;\n",
              "      border-right-color: var(--fill-color);\n",
              "      border-bottom-color: var(--fill-color);\n",
              "    }\n",
              "    90% {\n",
              "      border-color: transparent;\n",
              "      border-bottom-color: var(--fill-color);\n",
              "    }\n",
              "  }\n",
              "</style>\n",
              "\n",
              "      <script>\n",
              "        async function quickchart(key) {\n",
              "          const quickchartButtonEl =\n",
              "            document.querySelector('#' + key + ' button');\n",
              "          quickchartButtonEl.disabled = true;  // To prevent multiple clicks.\n",
              "          quickchartButtonEl.classList.add('colab-df-spinner');\n",
              "          try {\n",
              "            const charts = await google.colab.kernel.invokeFunction(\n",
              "                'suggestCharts', [key], {});\n",
              "          } catch (error) {\n",
              "            console.error('Error during call to suggestCharts:', error);\n",
              "          }\n",
              "          quickchartButtonEl.classList.remove('colab-df-spinner');\n",
              "          quickchartButtonEl.classList.add('colab-df-quickchart-complete');\n",
              "        }\n",
              "        (() => {\n",
              "          let quickchartButtonEl =\n",
              "            document.querySelector('#df-65486cd4-9ee2-4e9e-ab81-0690f004730e button');\n",
              "          quickchartButtonEl.style.display =\n",
              "            google.colab.kernel.accessAllowed ? 'block' : 'none';\n",
              "        })();\n",
              "      </script>\n",
              "    </div>\n",
              "\n",
              "    </div>\n",
              "  </div>\n"
            ],
            "application/vnd.google.colaboratory.intrinsic+json": {
              "type": "dataframe",
              "variable_name": "news_dataset",
              "summary": "{\n  \"name\": \"news_dataset\",\n  \"rows\": 18383,\n  \"fields\": [\n    {\n      \"column\": \"id\",\n      \"properties\": {\n        \"dtype\": \"string\",\n        \"num_unique_values\": 18383,\n        \"samples\": [\n          \"10337\",\n          \"3376\",\n          \"10912\"\n        ],\n        \"semantic_type\": \"\",\n        \"description\": \"\"\n      }\n    },\n    {\n      \"column\": \"title\",\n      \"properties\": {\n        \"dtype\": \"string\",\n        \"num_unique_values\": 17552,\n        \"samples\": [\n          \"A Worrisome Pileup of $100 Million Homes - The New York Times\",\n          \"Comment on Why We\\u00e2\\u0080\\u0099re All Deficient In Magnesium, The Many Signs & What To Do by Ain\\u00e2\\u0080\\u0099t No Sunshine: Seasonal SADness and Magnesium | Activation Health\",\n          \"NBC\\u00e2\\u0080\\u0099s Tur: Is Trump Going Down \\u00e2\\u0080\\u0099A Dangerous Path\\u00e2\\u0080\\u0099 Because Putin Has Killed Journalists and Trump Criticizes Them? - Breitbart\"\n        ],\n        \"semantic_type\": \"\",\n        \"description\": \"\"\n      }\n    },\n    {\n      \"column\": \"author\",\n      \"properties\": {\n        \"dtype\": \"category\",\n        \"num_unique_values\": 3887,\n        \"samples\": [\n          \"Abby Goodnough and Mitch Smith\",\n          \"Victoria Burnett, Randal C. Archibold and Frances Robles\",\n          \"Mark Landler and Noah Weiland\"\n        ],\n        \"semantic_type\": \"\",\n        \"description\": \"\"\n      }\n    },\n    {\n      \"column\": \"text\",\n      \"properties\": {\n        \"dtype\": \"string\",\n        \"num_unique_values\": 18015,\n        \"samples\": [\n          \"After   Donald J. Trump announced Monday that he would appoint his    the real estate investor Jared Kushner, as a senior White House adviser, lawyers for Mr. Kushner said he would sell many of his assets to avoid myriad potential conflicts of interest. But because he plans to sell to his brother or to a family trust controlled by his mother, some ethics lawyers interviewed questioned how meaningful the divestiture would be. Jamie S. Gorelick, a lawyer who is advising Mr. Kushner on how to deal with the ethical issues he will have to navigate while advising Mr. Trump on topics that could affect his bottom line, said Mr. Kushner would sell his interest in about 35 investments, including his family\\u00e2\\u0080\\u0099s flagship office tower on Fifth Avenue in Midtown Manhattan. He also plans to restructure his role in his remaining holdings so he will not be involved in managing them, Ms. Gorelick said. In addition, she said, he will sell his common stocks resign as chief executive of Kushner Companies, his family business and sell The New York Observer. He will also recuse himself from decisions that could affect his remaining holdings, as well as those of his wife, Ivanka Trump. \\u00e2\\u0080\\u009cHe will be treated as any other person entering public service,\\u00e2\\u0080\\u009d said Ms. Gorelick, a partner at WilmerHale and a deputy attorney general under President Bill Clinton. Matthew T. Sanderson, a lawyer at Caplin  Drysdale and former general counsel to Senator Rand Paul\\u00e2\\u0080\\u0099s presidential campaign, said that, ideally, the transactions would be independent of the person selling the asset. But as outlined by Ms. Gorelick, Mr. Sanderson said, the plan falls short of that standard. Not only does Mr. Kushner intend to sell the assets to his brother, Joshua, a venture capitalist, and to a trust controlled by his mother, Seryl, but his mother and siblings are the beneficiaries of the trust. \\u00e2\\u0080\\u009cIt sounds like a shell game to me,\\u00e2\\u0080\\u009d Mr. Sanderson said. Even with these measures, Mr. Kushner will still have links to his family\\u00e2\\u0080\\u0099s empire, which owns property across the country and relies on   foreign money. Recent maneuvers over the tower at 666 Fifth Avenue underscore the complications. On Saturday, The New York Times reported that Mr. Kushner had been negotiating to redevelop the building with Anbang Insurance Group, a Chinese financial firm with a murky ownership structure and state connections. The negotiations began about six months ago, around the time Mr. Trump clinched the Republican nomination. While the family trust will take over Mr. Kushner\\u00e2\\u0080\\u0099s stake in the building, the value of his interest and other details of the transaction are not known. And as a White House adviser on issues including trade, he is likely to counsel the president on America\\u00e2\\u0080\\u0099s relationship with China. People close to Mr. Kushner and his wife have repeatedly highlighted the income they will be sacrificing Ms. Gorelick said Ms. Trump would remove herself from management roles at the Trump Organization and at her apparel and licensing companies. She will draw income in fixed payments from the Trump Organization, so her salary will not fluctuate based on deals that could relate directly to new federal laws or decisions by her father\\u00e2\\u0080\\u0099s administration. Ms. Gorelick said Mr. Kushner\\u00e2\\u0080\\u0099s legal team had consulted with the Office of Government Ethics, and agreed to certain requests, to craft a plan that would satisfy the legal requirements for him to serve. The lawyers concluded that at least one obstacle, a federal   law, was not applicable because, while the law prohibits federal officials from hiring relatives for agencies they lead, the White House is not an agency. \\u00e2\\u0080\\u009cI\\u00e2\\u0080\\u0099m not saying that there isn\\u00e2\\u0080\\u0099t an argument on the other side,\\u00e2\\u0080\\u009d Ms. Gorelick said. \\u00e2\\u0080\\u009cI just think we have the better argument. \\u00e2\\u0080\\u009d Richard W. Painter, a professor of law at the University of Minnesota and a chief White House ethics lawyer under President George W. Bush, said Mr. Trump and his team deserved credit for bringing Mr. Kushner on as an employee, rather than as an informal adviser not subject to criminal    rules. Mr. Painter noted that the trust was irrevocable, meaning it cannot be modified without the permission of the beneficiaries. He also said it was a positive sign that Mr. Kushner\\u00e2\\u0080\\u0099s wife and young children were not beneficiaries. However, other relatives are. \\u00e2\\u0080\\u009cThere will be appearance issues, and you need to make sure this is not a     issue,\\u00e2\\u0080\\u009d he said.\",\n          \"Obamacare will go into a death spiral on May 22 if the Trump administration chooses not to continue fighting in court to preserve   subsidies that were ruled illegal last year.  On May 12, 2016, U. S. District Court Judge Rosemary M. Collyer ruled House v. Burwell that the Obama Administration\\u00e2\\u0080\\u0099s payment of   subsidies without congressional approval was a violation of the Constitution\\u00e2\\u0080\\u0099s Appropriations Clause. The Obama odministration appealed the case to the United States Court of Appeals for the District of Columbia District, where it was renamed House v. Price to reflect the current Secretary of Health and Human Services. Monday, May 22 is the last day for the Trump administration to give notice to the Appellate Court if it wants to continue the appeal. If Trump drops the appeal and ends the illegal   subsidies, Obamacare Silver Plan healthcare premiums will jump by 19 percent. But the national average for Obamacare Silver Plan patient deductibles would also more than quadruple from $709, to $3, 064, according to the amicus brief filed by America\\u00e2\\u0080\\u0099s largest hospital groups. The   Congress was happy to pass Obamacare\\u00e2\\u0080\\u0099s radical expansion of social justice entitlements, but had little interest in appropriating a $7 billion subsidy for healthcare insurance companies that saw their stock price triple under Obamacare. President Obama then directed the IRS to make \\u00e2\\u0080\\u009cSection 142 Offset Program\\u00e2\\u0080\\u009d payments to   insurers from the collection of penalties, fees and legal judgments against taxpayers. Congressman Ron Paul ( ) warned in 2010 that the IRS would hire up to 16, 500 new agents to increase audits to generate more penalties and fees to subsidize Obamacare. The Centers for Medicaid and Medicare are expected to release their \\u00e2\\u0080\\u009cProposed Health Insurance Rate Increases for the 2018 Coverage Year\\u00e2\\u0080\\u009d on June 1. Obamacare premiums have increased by double digits each year since 2015, and 73 insurers announced last year that they were withdrawing from the program. As a result, many rural areas of the U. S. now only have one provider that can charge any rate it chooses. According to the authoritative ACASignups. net blog, that closely follows state healthcare premium increase requests by insurers in each state, Virginia is looking at a 42. 6 percent increase Maryland a 22. 6 percent increase Oregon a 17 percent increase and Connecticut a 13. 9 percent increase. Covered California, the Golden State\\u00e2\\u0080\\u0099s Obamacare exchange, has been mum on what type of premium increase its participating insurers will ask for. But the San Francisco Business Journal reported that the California Institute for Regenerative Medicine estimated that Covered California healthcare premiums for 2018 would rise between 28 and 49 percent, not including the 19 percent added cost if the Trump administration drops the illegal   appeal. The hospital groups\\u00e2\\u0080\\u0099 argument to the Appeals Court is that without the court allowing illegal   subsidies, Obamacare will go into a \\u00e2\\u0080\\u009cdeath spiral. \\u00e2\\u0080\\u009d\",\n          \"GameStop is reportedly closing at least 150 stores, or about 3 percent of its locations, in response to a growing consumer preference for digital storefronts. [After a harsh 16 percent drop in store profits and a 14 percent drop in overall sales, GameStop CEO J. Paul Raines blamed a \\u00e2\\u0080\\u009csteep decline in retail pricing\\u00e2\\u0080\\u009d on a wider spread of holiday season discounts. But a far more likely reason is the effect of consumers turning from    retail locations to the digital marketplace. The trends aren\\u00e2\\u0080\\u0099t difficult to see: between 2009 and 2015, physical sales dropped from 80 percent to just 44 percent, while digital sales skyrocketed from 20 percent to 56 percent of the industry.  Raines said that the Nintendo Switch release \\u00e2\\u0080\\u009cprovided a dramatic lift in traffic in stores,\\u00e2\\u0080\\u009d and believes the console \\u00e2\\u0080\\u009chas real potential to be   in its ability to expand the gaming category from core to broad audiences. \\u00e2\\u0080\\u009d But despite the promising performance of the new console, expecting it to become a phenomenon on the level of the Wii seems optimistic. GameStop is countering its foundering performance with an expansion of its   locations this year, adding 35 stores to the current total of 86 locations. Will it be enough to shore up the losses to Steam, and the respective online PlaysStation and Xbox marketplaces? Only time will tell. Follow Nate Church @Get2Church on Twitter for the latest news in gaming and technology, and snarky opinions on both.\"\n        ],\n        \"semantic_type\": \"\",\n        \"description\": \"\"\n      }\n    },\n    {\n      \"column\": \"label\",\n      \"properties\": {\n        \"dtype\": \"number\",\n        \"std\": 0.5000125973604999,\n        \"min\": 0.0,\n        \"max\": 1.0,\n        \"num_unique_values\": 2,\n        \"samples\": [\n          0.0,\n          1.0\n        ],\n        \"semantic_type\": \"\",\n        \"description\": \"\"\n      }\n    }\n  ]\n}"
            }
          },
          "metadata": {},
          "execution_count": 39
        }
      ]
    },
    {
      "cell_type": "code",
      "source": [
        "# counting the number of missing values in the dataset\n",
        "news_dataset.isnull().sum()"
      ],
      "metadata": {
        "colab": {
          "base_uri": "https://localhost:8080/",
          "height": 241
        },
        "id": "JgVzLfGiOggh",
        "outputId": "2c5a799c-4f5f-4a64-eb31-6217dd53bbdc"
      },
      "execution_count": 40,
      "outputs": [
        {
          "output_type": "execute_result",
          "data": {
            "text/plain": [
              "id           0\n",
              "title      490\n",
              "author    1747\n",
              "text        49\n",
              "label       16\n",
              "dtype: int64"
            ],
            "text/html": [
              "<div>\n",
              "<style scoped>\n",
              "    .dataframe tbody tr th:only-of-type {\n",
              "        vertical-align: middle;\n",
              "    }\n",
              "\n",
              "    .dataframe tbody tr th {\n",
              "        vertical-align: top;\n",
              "    }\n",
              "\n",
              "    .dataframe thead th {\n",
              "        text-align: right;\n",
              "    }\n",
              "</style>\n",
              "<table border=\"1\" class=\"dataframe\">\n",
              "  <thead>\n",
              "    <tr style=\"text-align: right;\">\n",
              "      <th></th>\n",
              "      <th>0</th>\n",
              "    </tr>\n",
              "  </thead>\n",
              "  <tbody>\n",
              "    <tr>\n",
              "      <th>id</th>\n",
              "      <td>0</td>\n",
              "    </tr>\n",
              "    <tr>\n",
              "      <th>title</th>\n",
              "      <td>490</td>\n",
              "    </tr>\n",
              "    <tr>\n",
              "      <th>author</th>\n",
              "      <td>1747</td>\n",
              "    </tr>\n",
              "    <tr>\n",
              "      <th>text</th>\n",
              "      <td>49</td>\n",
              "    </tr>\n",
              "    <tr>\n",
              "      <th>label</th>\n",
              "      <td>16</td>\n",
              "    </tr>\n",
              "  </tbody>\n",
              "</table>\n",
              "</div><br><label><b>dtype:</b> int64</label>"
            ]
          },
          "metadata": {},
          "execution_count": 40
        }
      ]
    },
    {
      "cell_type": "code",
      "source": [
        "# replacing the null values with empty string\n",
        "news_dataset = news_dataset.fillna('')"
      ],
      "metadata": {
        "id": "rC8J51g1OqfW"
      },
      "execution_count": 41,
      "outputs": []
    },
    {
      "cell_type": "code",
      "source": [
        "# merging the author name and news title\n",
        "news_dataset['content'] = news_dataset['author']+' '+news_dataset['title']"
      ],
      "metadata": {
        "id": "rNhb6Gp8Ov_k"
      },
      "execution_count": 42,
      "outputs": []
    },
    {
      "cell_type": "code",
      "source": [
        "print(news_dataset['content'])"
      ],
      "metadata": {
        "colab": {
          "base_uri": "https://localhost:8080/"
        },
        "id": "wp9WNf67O78F",
        "outputId": "dc5d03b4-949f-49a2-ccd5-fa9ed9aa8595"
      },
      "execution_count": 43,
      "outputs": [
        {
          "output_type": "stream",
          "name": "stdout",
          "text": [
            "0        Darrell Lucus House Dem Aide: We Didnât Even...\n",
            "1        Daniel J. Flynn FLYNN: Hillary Clinton, Big Wo...\n",
            "2        Consortiumnews.com Why the Truth Might Get You...\n",
            "3        Jessica Purkiss 15 Civilians Killed In Single ...\n",
            "4        Howard Portnoy Iranian woman jailed for fictio...\n",
            "                               ...                        \n",
            "18378    Mekado Murphy Holiday Movies to See (or Skip) ...\n",
            "18379     Regretful Brexiter realises he actually just ...\n",
            "18380    Trent Baker Sessions: The Border Is Not Open -...\n",
            "18381    Alissa J. Rubin France Lets Workers Turn Off, ...\n",
            "18382    Lucas Nolan REPORT: Ann Coulter Cancels UC Ber...\n",
            "Name: content, Length: 18383, dtype: object\n"
          ]
        }
      ]
    },
    {
      "cell_type": "code",
      "source": [
        "# separating the data & label\n",
        "X = news_dataset.drop(columns='label', axis=1)\n",
        "Y = news_dataset['label']"
      ],
      "metadata": {
        "id": "NlW-3y5LO_FY"
      },
      "execution_count": 44,
      "outputs": []
    },
    {
      "cell_type": "code",
      "source": [
        "print(X)"
      ],
      "metadata": {
        "colab": {
          "base_uri": "https://localhost:8080/"
        },
        "id": "SYyRlDjvPEzn",
        "outputId": "bca90bac-020d-4683-836b-328a054178f7"
      },
      "execution_count": 45,
      "outputs": [
        {
          "output_type": "stream",
          "name": "stdout",
          "text": [
            "          id                                              title  \\\n",
            "0          0  House Dem Aide: We Didnât Even See Comeyâs...   \n",
            "1          1  FLYNN: Hillary Clinton, Big Woman on Campus - ...   \n",
            "2          2                  Why the Truth Might Get You Fired   \n",
            "3          3  15 Civilians Killed In Single US Airstrike Hav...   \n",
            "4          4  Iranian woman jailed for fictional unpublished...   \n",
            "...      ...                                                ...   \n",
            "18378  18363  Holiday Movies to See (or Skip) - The New York...   \n",
            "18379  18364  Regretful Brexiter realises he actually just r...   \n",
            "18380  18365       Sessions: The Border Is Not Open - Breitbart   \n",
            "18381  18366  France Lets Workers Turn Off, Tune Out and Liv...   \n",
            "18382  18367  REPORT: Ann Coulter Cancels UC Berkeley Speech...   \n",
            "\n",
            "                   author                                               text  \\\n",
            "0           Darrell Lucus  House Dem Aide: We Didnât Even See Comeyâs...   \n",
            "1         Daniel J. Flynn  Ever get the feeling your life circles the rou...   \n",
            "2      Consortiumnews.com  Why the Truth Might Get You Fired October 29, ...   \n",
            "3         Jessica Purkiss  Videos 15 Civilians Killed In Single US Airstr...   \n",
            "4          Howard Portnoy  Print \\nAn Iranian woman has been sentenced to...   \n",
            "...                   ...                                                ...   \n",
            "18378       Mekado Murphy  Make your movie list, check it twice and maste...   \n",
            "18379                      Tuesday 22 November 2016 by Thomas Gane Regret...   \n",
            "18380         Trent Baker  Attorney General Jeff Sessions told anybody th...   \n",
            "18381     Alissa J. Rubin  PARIS  â   If the world does not envy the Fr...   \n",
            "18382         Lucas Nolan  Conservative author and speaker Ann Coulter ha...   \n",
            "\n",
            "                                                 content  \n",
            "0      Darrell Lucus House Dem Aide: We Didnât Even...  \n",
            "1      Daniel J. Flynn FLYNN: Hillary Clinton, Big Wo...  \n",
            "2      Consortiumnews.com Why the Truth Might Get You...  \n",
            "3      Jessica Purkiss 15 Civilians Killed In Single ...  \n",
            "4      Howard Portnoy Iranian woman jailed for fictio...  \n",
            "...                                                  ...  \n",
            "18378  Mekado Murphy Holiday Movies to See (or Skip) ...  \n",
            "18379   Regretful Brexiter realises he actually just ...  \n",
            "18380  Trent Baker Sessions: The Border Is Not Open -...  \n",
            "18381  Alissa J. Rubin France Lets Workers Turn Off, ...  \n",
            "18382  Lucas Nolan REPORT: Ann Coulter Cancels UC Ber...  \n",
            "\n",
            "[18383 rows x 5 columns]\n"
          ]
        }
      ]
    },
    {
      "cell_type": "code",
      "source": [
        "print(Y)"
      ],
      "metadata": {
        "colab": {
          "base_uri": "https://localhost:8080/"
        },
        "id": "WBgZAODgPGL8",
        "outputId": "d5b4c93d-e68c-40f7-b835-bfbc94fc0776"
      },
      "execution_count": 46,
      "outputs": [
        {
          "output_type": "stream",
          "name": "stdout",
          "text": [
            "0        1.0\n",
            "1        0.0\n",
            "2        1.0\n",
            "3        1.0\n",
            "4        1.0\n",
            "        ... \n",
            "18378    0.0\n",
            "18379    1.0\n",
            "18380    0.0\n",
            "18381    0.0\n",
            "18382    0.0\n",
            "Name: label, Length: 18383, dtype: object\n"
          ]
        }
      ]
    },
    {
      "cell_type": "markdown",
      "source": [
        "Stemming:\n",
        "\n",
        "Stemming is the process of reducing a word to its Root word\n",
        "\n",
        "example: actor, actress, acting --> act"
      ],
      "metadata": {
        "id": "N9LyrKZuPMS7"
      }
    },
    {
      "cell_type": "code",
      "source": [
        "port_stem = PorterStemmer()"
      ],
      "metadata": {
        "id": "RbLGsn-EPIFU"
      },
      "execution_count": 47,
      "outputs": []
    },
    {
      "cell_type": "code",
      "source": [
        "def stemming(content):\n",
        "  stemmed_content = re.sub('[^a-zA-Z]',' ',content)\n",
        "  stemmed_content = stemmed_content.lower()\n",
        "  stemmed_content = stemmed_content.split()\n",
        "  stemmed_content = [port_stem.stem(word) for word in stemmed_content if not word in stopwords.words('english')]\n",
        "  stemmed_content = ' '.join(stemmed_content)\n",
        "  return stemmed_content"
      ],
      "metadata": {
        "id": "UFA-a9EPPPXg"
      },
      "execution_count": 49,
      "outputs": []
    },
    {
      "cell_type": "code",
      "source": [
        "news_dataset['content'] = news_dataset['content'].apply(stemming)"
      ],
      "metadata": {
        "id": "0NVjfPtUPSLH"
      },
      "execution_count": 50,
      "outputs": []
    },
    {
      "cell_type": "code",
      "source": [
        "print(news_dataset['content'])"
      ],
      "metadata": {
        "colab": {
          "base_uri": "https://localhost:8080/"
        },
        "id": "K5EfqSDuPfZM",
        "outputId": "aafe1032-5e9d-4ffa-ff43-0ba06105352a"
      },
      "execution_count": 51,
      "outputs": [
        {
          "output_type": "stream",
          "name": "stdout",
          "text": [
            "0        darrel lucu hous dem aid even see comey letter...\n",
            "1        daniel j flynn flynn hillari clinton big woman...\n",
            "2                   consortiumnew com truth might get fire\n",
            "3        jessica purkiss civilian kill singl us airstri...\n",
            "4        howard portnoy iranian woman jail fiction unpu...\n",
            "                               ...                        \n",
            "18378    mekado murphi holiday movi see skip new york time\n",
            "18379    regret brexit realis actual realli miss old to...\n",
            "18380            trent baker session border open breitbart\n",
            "18381    alissa j rubin franc let worker turn tune live...\n",
            "18382    luca nolan report ann coulter cancel uc berkel...\n",
            "Name: content, Length: 18383, dtype: object\n"
          ]
        }
      ]
    },
    {
      "cell_type": "code",
      "source": [
        "# seperating tha data and label\n",
        "X = news_dataset['content'].values\n",
        "Y = news_dataset['label'].values"
      ],
      "metadata": {
        "id": "O1UeZsa2PqX8"
      },
      "execution_count": 52,
      "outputs": []
    },
    {
      "cell_type": "code",
      "source": [
        "print(X)"
      ],
      "metadata": {
        "colab": {
          "base_uri": "https://localhost:8080/"
        },
        "id": "uRkrOtWKPw7Q",
        "outputId": "00e8799b-cb20-4138-b4da-d75c01b72861"
      },
      "execution_count": 53,
      "outputs": [
        {
          "output_type": "stream",
          "name": "stdout",
          "text": [
            "['darrel lucu hous dem aid even see comey letter jason chaffetz tweet'\n",
            " 'daniel j flynn flynn hillari clinton big woman campu breitbart'\n",
            " 'consortiumnew com truth might get fire' ...\n",
            " 'trent baker session border open breitbart'\n",
            " 'alissa j rubin franc let worker turn tune live life new york time'\n",
            " 'luca nolan report ann coulter cancel uc berkeley speech breitbart']\n"
          ]
        }
      ]
    },
    {
      "cell_type": "code",
      "source": [
        "print(Y)"
      ],
      "metadata": {
        "colab": {
          "base_uri": "https://localhost:8080/"
        },
        "id": "pNzTXcPyPx8b",
        "outputId": "9d4d3045-2b98-4ad9-8c36-81f342a3d667"
      },
      "execution_count": 54,
      "outputs": [
        {
          "output_type": "stream",
          "name": "stdout",
          "text": [
            "[1.0 0.0 1.0 ... 0.0 0.0 0.0]\n"
          ]
        }
      ]
    },
    {
      "cell_type": "code",
      "source": [
        "# 'Y' (labels) ka shape check karna (Checking the shape of 'Y' (labels))\n",
        "Y.shape"
      ],
      "metadata": {
        "colab": {
          "base_uri": "https://localhost:8080/"
        },
        "id": "thkHU-5KPzRk",
        "outputId": "6b564ad0-1754-48c6-e809-8d9ef34b8698"
      },
      "execution_count": 66,
      "outputs": [
        {
          "output_type": "execute_result",
          "data": {
            "text/plain": [
              "(18383,)"
            ]
          },
          "metadata": {},
          "execution_count": 66
        }
      ]
    },
    {
      "cell_type": "markdown",
      "source": [
        "Tf-ldf"
      ],
      "metadata": {
        "id": "UOlOqDXhP9Wm"
      }
    },
    {
      "cell_type": "code",
      "source": [
        "# Textual data ko numerical feature vectors mein badalne ke liye TfidfVectorizer shuru karna (Initializing TfidfVectorizer to convert textual data into numerical feature vectors)\n",
        "vectorizer = TfidfVectorizer()"
      ],
      "metadata": {
        "id": "ja9zxRK4P1zp"
      },
      "execution_count": 67,
      "outputs": []
    },
    {
      "cell_type": "code",
      "source": [
        "# 'X' ko raw text data par set karna, vectorizer fit karne se pehle (Setting 'X' to raw text data before fitting the vectorizer)\n",
        "X = news_dataset['content'].values\n",
        "\n",
        "# Vectorizer ko data par fit karna (Fitting the vectorizer on the data)\n",
        "vectorizer.fit(X)\n",
        "\n",
        "# Data ko numerical feature vectors mein badalna (Transforming the data into numerical feature vectors)\n",
        "X = vectorizer.transform(X)"
      ],
      "metadata": {
        "id": "CtdQ5_jiQDvy"
      },
      "execution_count": 68,
      "outputs": []
    },
    {
      "cell_type": "code",
      "source": [
        "# Numerical feature vectors 'X' ko print karna (Printing the numerical feature vectors 'X')\n",
        "print(X)"
      ],
      "metadata": {
        "colab": {
          "base_uri": "https://localhost:8080/"
        },
        "id": "YgknC8G3QNoI",
        "outputId": "901a88e9-c2e4-4c12-c719-ebc5fbd157b0"
      },
      "execution_count": 69,
      "outputs": [
        {
          "output_type": "stream",
          "name": "stdout",
          "text": [
            "<Compressed Sparse Row sparse matrix of dtype 'float64'\n",
            "\twith 186206 stored elements and shape (18383, 16280)>\n",
            "  Coords\tValues\n",
            "  (0, 258)\t0.2669559997176808\n",
            "  (0, 2383)\t0.3648637143460868\n",
            "  (0, 2846)\t0.24608969923241478\n",
            "  (0, 3454)\t0.3698480218086287\n",
            "  (0, 3640)\t0.26789643180876965\n",
            "  (0, 4753)\t0.23279459057435217\n",
            "  (0, 6692)\t0.21894286803889415\n",
            "  (0, 7340)\t0.24524612905665602\n",
            "  (0, 8225)\t0.28904057017439516\n",
            "  (0, 8483)\t0.3698480218086287\n",
            "  (0, 12808)\t0.253861969074018\n",
            "  (0, 14925)\t0.28185083328012384\n",
            "  (1, 1437)\t0.2913881517919056\n",
            "  (1, 1818)\t0.1540565449050519\n",
            "  (1, 2133)\t0.3806443924373733\n",
            "  (1, 2701)\t0.19001149724844194\n",
            "  (1, 3424)\t0.2635109716821854\n",
            "  (1, 5265)\t0.7181626606825728\n",
            "  (1, 6511)\t0.18938262686832083\n",
            "  (1, 15970)\t0.2988370536454543\n",
            "  (2, 2830)\t0.318781975899352\n",
            "  (2, 2984)\t0.4657211114208176\n",
            "  (2, 5156)\t0.3844081325093558\n",
            "  (2, 5702)\t0.347429865210207\n",
            "  (2, 9154)\t0.4878706063465923\n",
            "  :\t:\n",
            "  (18380, 10196)\t0.42202652874654506\n",
            "  (18380, 12906)\t0.4738776824658882\n",
            "  (18380, 14759)\t0.4529578642200303\n",
            "  (18381, 360)\t0.37784311496177114\n",
            "  (18381, 5378)\t0.28305401488959087\n",
            "  (18381, 8221)\t0.31459218343938367\n",
            "  (18381, 8276)\t0.2732666397791632\n",
            "  (18381, 8353)\t0.2787042991064009\n",
            "  (18381, 9803)\t0.10180307142592934\n",
            "  (18381, 12354)\t0.35755388728107373\n",
            "  (18381, 14545)\t0.10339988053723159\n",
            "  (18381, 14889)\t0.42575384111076636\n",
            "  (18381, 14910)\t0.2870700038639827\n",
            "  (18381, 15991)\t0.3195724900737665\n",
            "  (18381, 16155)\t0.1053268284221321\n",
            "  (18382, 539)\t0.3196329661177755\n",
            "  (18382, 1369)\t0.3560869091012561\n",
            "  (18382, 1818)\t0.15444221867401095\n",
            "  (18382, 2141)\t0.3429845516818932\n",
            "  (18382, 3112)\t0.3548537707528093\n",
            "  (18382, 8476)\t0.32147143994674626\n",
            "  (18382, 9913)\t0.3260442658226102\n",
            "  (18382, 11957)\t0.2452608509359038\n",
            "  (18382, 13567)\t0.30206202873566257\n",
            "  (18382, 14967)\t0.37760002083640304\n"
          ]
        }
      ]
    }
  ],
  "metadata": {
    "colab": {
      "provenance": [],
      "authorship_tag": "ABX9TyPwmySb+SdnP2Dt/8rvwMmM",
      "include_colab_link": true
    },
    "kernelspec": {
      "display_name": "Python 3",
      "name": "python3"
    },
    "language_info": {
      "name": "python"
    }
  },
  "nbformat": 4,
  "nbformat_minor": 0
}