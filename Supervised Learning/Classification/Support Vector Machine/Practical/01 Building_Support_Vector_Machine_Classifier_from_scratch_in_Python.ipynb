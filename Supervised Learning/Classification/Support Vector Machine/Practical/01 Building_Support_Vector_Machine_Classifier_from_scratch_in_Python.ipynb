{
  "nbformat": 4,
  "nbformat_minor": 0,
  "metadata": {
    "colab": {
      "provenance": [],
      "authorship_tag": "ABX9TyN79J3BGOIv+EOPc8qYkmxm",
      "include_colab_link": true
    },
    "kernelspec": {
      "name": "python3",
      "display_name": "Python 3"
    },
    "language_info": {
      "name": "python"
    }
  },
  "cells": [
    {
      "cell_type": "markdown",
      "metadata": {
        "id": "view-in-github",
        "colab_type": "text"
      },
      "source": [
        "<a href=\"https://colab.research.google.com/github/khushiyadav03/Machine-Learning/blob/main/Building_Support_Vector_Machine_Classifier_from_scratch_in_Python.ipynb\" target=\"_parent\"><img src=\"https://colab.research.google.com/assets/colab-badge.svg\" alt=\"Open In Colab\"/></a>"
      ]
    },
    {
      "cell_type": "markdown",
      "source": [
        "**SVM Classifier**"
      ],
      "metadata": {
        "id": "EaUhe5UlVDPd"
      }
    },
    {
      "cell_type": "markdown",
      "source": [
        "Equation of the Hyperplane:\n",
        "\n",
        "**y = wx - b**"
      ],
      "metadata": {
        "id": "r6kYMW7BVNt9"
      }
    },
    {
      "cell_type": "markdown",
      "source": [
        "**Gradient Descent:**\n",
        "\n",
        "It is an optimization algo used for minimizing the loss function in various machine learning algos.\n",
        "It is used for updating the parameters of the learning model.\n",
        "\n",
        "w  =  w - α*dw\n",
        "\n",
        "b  =  b - α*db"
      ],
      "metadata": {
        "id": "rrs5JsdBVWrV"
      }
    },
    {
      "cell_type": "markdown",
      "source": [
        "**Learning Rate:**\n",
        "\n",
        "It is a tuning parameter in an optimization algo that determines the step size at each iteration while moving toward a minimum of a loss function"
      ],
      "metadata": {
        "id": "Ciw9MTUDWSzu"
      }
    },
    {
      "cell_type": "code",
      "execution_count": 1,
      "metadata": {
        "id": "cGGrEv9FUskC"
      },
      "outputs": [],
      "source": [
        "# importing libraries\n",
        "import numpy as np"
      ]
    },
    {
      "cell_type": "markdown",
      "source": [
        "Support Vector Machine Classifier"
      ],
      "metadata": {
        "id": "mBZl3EeLWu7X"
      }
    },
    {
      "cell_type": "code",
      "source": [
        "class SVM_Classifier():\n",
        "\n",
        "  # initating the hyperparameters\n",
        "  def __init__(self, learning_rate, no_of_iterations, lambda_parameter):\n",
        "    self.learning_rate = learning_rate\n",
        "    self.no_of_iterations = no_of_iterations\n",
        "    self.lambda_parameter = lambda_parameter\n",
        "\n",
        "  # fitting the dataset to SVM classifier\n",
        "  def fit(self, X, Y):\n",
        "\n",
        "    # m -> no of data points --> no of rows\n",
        "    # n -> no of input features --> no of cols\n",
        "    self.m, self.n = X.shape\n",
        "\n",
        "    # initiating the weight value and bias value\n",
        "    self.w = np.zeros(self.n)\n",
        "    self.b = 0\n",
        "    self.x = X\n",
        "    self.y = Y\n",
        "\n",
        "    # implementing Gradient Descent algo for optimization\n",
        "    for i in range(self.no_of_iterations):\n",
        "      self.update_weights()\n",
        "\n",
        "    # function for updating the weight and bias value\n",
        "    def update_weights(self):\n",
        "\n",
        "      # label encoding\n",
        "      y_label = np.where(self.Y <= 0, -1, 1)\n",
        "\n",
        "      # gradients(dw, db)\n",
        "      for index, x_i in enumerate(self.x):\n",
        "\n",
        "        condition = y_label[index] * (np.dot(x_i, self.w) - self.b) >= 1\n",
        "\n",
        "        if (condition == True):\n",
        "          dw = 2 * self.lambda_parameter * self.w\n",
        "          db = 0\n",
        "\n",
        "        else:\n",
        "          dw = 2 * self.lambda_parameter * self.w - np.dot(x_i, y_label[index])\n",
        "          db = y_label[index]\n",
        "\n",
        "        self.w = self.w - self.learning_rate * dw\n",
        "        self.b = self.b - self.learning_rate * db\n",
        "\n",
        "        # predict the label for a givem input value\n",
        "        def predict(self, X):\n",
        "          output = np.dot(X, self.w) - self.b\n",
        "          predicted_labels = np.sign(output)\n",
        "          y_hat = np.where(predicted_labels <= -1, 0, 1)\n",
        "          return y_hat"
      ],
      "metadata": {
        "id": "5Rsk0m2YWtuR"
      },
      "execution_count": 2,
      "outputs": []
    },
    {
      "cell_type": "code",
      "source": [],
      "metadata": {
        "id": "mSMg4h7JYgg1"
      },
      "execution_count": null,
      "outputs": []
    }
  ]
}