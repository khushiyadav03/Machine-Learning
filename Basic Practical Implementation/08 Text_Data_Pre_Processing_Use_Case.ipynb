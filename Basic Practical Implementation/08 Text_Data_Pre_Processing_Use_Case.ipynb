{
  "nbformat": 4,
  "nbformat_minor": 0,
  "metadata": {
    "colab": {
      "provenance": [],
      "authorship_tag": "ABX9TyP9Ptjgiz8ulfQGL8IaKjsb",
      "include_colab_link": true
    },
    "kernelspec": {
      "name": "python3",
      "display_name": "Python 3"
    },
    "language_info": {
      "name": "python"
    }
  },
  "cells": [
    {
      "cell_type": "markdown",
      "metadata": {
        "id": "view-in-github",
        "colab_type": "text"
      },
      "source": [
        "<a href=\"https://colab.research.google.com/github/khushiyadav03/Machine-Learning/blob/main/Text_Data_Pre_Processing_Use_Case.ipynb\" target=\"_parent\"><img src=\"https://colab.research.google.com/assets/colab-badge.svg\" alt=\"Open In Colab\"/></a>"
      ]
    },
    {
      "cell_type": "markdown",
      "source": [
        "Importing the Dependencies"
      ],
      "metadata": {
        "id": "NT4KNJq9SmCK"
      }
    },
    {
      "cell_type": "code",
      "execution_count": 2,
      "metadata": {
        "id": "n6EZwlOCScOA"
      },
      "outputs": [],
      "source": [
        "import numpy as np\n",
        "import pandas as pd\n",
        "import re\n",
        "import nltk\n",
        "from nltk.corpus import stopwords\n",
        "from nltk.stem.porter import PorterStemmer\n",
        "from sklearn.feature_extraction.text import TfidfVectorizer\n",
        "from sklearn.model_selection import train_test_split"
      ]
    },
    {
      "cell_type": "code",
      "source": [
        "nltk.download('stopwords')"
      ],
      "metadata": {
        "colab": {
          "base_uri": "https://localhost:8080/"
        },
        "id": "wHBaz3aWTNdh",
        "outputId": "933686a2-f258-456f-b4e8-6aaeffe9b059"
      },
      "execution_count": 3,
      "outputs": [
        {
          "output_type": "stream",
          "name": "stderr",
          "text": [
            "[nltk_data] Downloading package stopwords to /root/nltk_data...\n",
            "[nltk_data]   Unzipping corpora/stopwords.zip.\n"
          ]
        },
        {
          "output_type": "execute_result",
          "data": {
            "text/plain": [
              "True"
            ]
          },
          "metadata": {},
          "execution_count": 3
        }
      ]
    },
    {
      "cell_type": "code",
      "source": [
        "# printing the stopwords\n",
        "print(stopwords.words('english'))"
      ],
      "metadata": {
        "colab": {
          "base_uri": "https://localhost:8080/"
        },
        "id": "bYQfMGw4TVqD",
        "outputId": "cbc43a93-2bcd-4c5b-dc58-13f3c21bfde4"
      },
      "execution_count": 4,
      "outputs": [
        {
          "output_type": "stream",
          "name": "stdout",
          "text": [
            "['a', 'about', 'above', 'after', 'again', 'against', 'ain', 'all', 'am', 'an', 'and', 'any', 'are', 'aren', \"aren't\", 'as', 'at', 'be', 'because', 'been', 'before', 'being', 'below', 'between', 'both', 'but', 'by', 'can', 'couldn', \"couldn't\", 'd', 'did', 'didn', \"didn't\", 'do', 'does', 'doesn', \"doesn't\", 'doing', 'don', \"don't\", 'down', 'during', 'each', 'few', 'for', 'from', 'further', 'had', 'hadn', \"hadn't\", 'has', 'hasn', \"hasn't\", 'have', 'haven', \"haven't\", 'having', 'he', \"he'd\", \"he'll\", 'her', 'here', 'hers', 'herself', \"he's\", 'him', 'himself', 'his', 'how', 'i', \"i'd\", 'if', \"i'll\", \"i'm\", 'in', 'into', 'is', 'isn', \"isn't\", 'it', \"it'd\", \"it'll\", \"it's\", 'its', 'itself', \"i've\", 'just', 'll', 'm', 'ma', 'me', 'mightn', \"mightn't\", 'more', 'most', 'mustn', \"mustn't\", 'my', 'myself', 'needn', \"needn't\", 'no', 'nor', 'not', 'now', 'o', 'of', 'off', 'on', 'once', 'only', 'or', 'other', 'our', 'ours', 'ourselves', 'out', 'over', 'own', 're', 's', 'same', 'shan', \"shan't\", 'she', \"she'd\", \"she'll\", \"she's\", 'should', 'shouldn', \"shouldn't\", \"should've\", 'so', 'some', 'such', 't', 'than', 'that', \"that'll\", 'the', 'their', 'theirs', 'them', 'themselves', 'then', 'there', 'these', 'they', \"they'd\", \"they'll\", \"they're\", \"they've\", 'this', 'those', 'through', 'to', 'too', 'under', 'until', 'up', 've', 'very', 'was', 'wasn', \"wasn't\", 'we', \"we'd\", \"we'll\", \"we're\", 'were', 'weren', \"weren't\", \"we've\", 'what', 'when', 'where', 'which', 'while', 'who', 'whom', 'why', 'will', 'with', 'won', \"won't\", 'wouldn', \"wouldn't\", 'y', 'you', \"you'd\", \"you'll\", 'your', \"you're\", 'yours', 'yourself', 'yourselves', \"you've\"]\n"
          ]
        }
      ]
    },
    {
      "cell_type": "markdown",
      "source": [
        "Data Pre-Processing"
      ],
      "metadata": {
        "id": "UVG7XzkcTh0P"
      }
    },
    {
      "cell_type": "code",
      "source": [
        "# loading the dataset to a pandas dataframe\n",
        "news_dataset = pd.read_csv('/content/fake_news_dataset.csv', encoding='latin-1', engine='python', on_bad_lines='skip')"
      ],
      "metadata": {
        "id": "o9UpS8daTgKL"
      },
      "execution_count": 6,
      "outputs": []
    },
    {
      "cell_type": "code",
      "source": [
        "news_dataset.head()"
      ],
      "metadata": {
        "colab": {
          "base_uri": "https://localhost:8080/",
          "height": 379
        },
        "id": "1C92ULuQT27K",
        "outputId": "f6a85d32-171c-48c9-e22a-78d938ff80cb"
      },
      "execution_count": 7,
      "outputs": [
        {
          "output_type": "execute_result",
          "data": {
            "text/plain": [
              "   id                                              title              author  \\\n",
              "0   0  House Dem Aide: We Didnât Even See Comeyâs...       Darrell Lucus   \n",
              "1   1  FLYNN: Hillary Clinton, Big Woman on Campus - ...     Daniel J. Flynn   \n",
              "2   2                  Why the Truth Might Get You Fired  Consortiumnews.com   \n",
              "3   3  15 Civilians Killed In Single US Airstrike Hav...     Jessica Purkiss   \n",
              "4   4  Iranian woman jailed for fictional unpublished...      Howard Portnoy   \n",
              "\n",
              "                                                text  label  \n",
              "0  House Dem Aide: We Didnât Even See Comeyâs...      1  \n",
              "1  Ever get the feeling your life circles the rou...      0  \n",
              "2  Why the Truth Might Get You Fired October 29, ...      1  \n",
              "3  Videos 15 Civilians Killed In Single US Airstr...      1  \n",
              "4  Print \\nAn Iranian woman has been sentenced to...      1  "
            ],
            "text/html": [
              "\n",
              "  <div id=\"df-cb0f1f25-eb30-4bce-8e64-b2c1cd19b522\" class=\"colab-df-container\">\n",
              "    <div>\n",
              "<style scoped>\n",
              "    .dataframe tbody tr th:only-of-type {\n",
              "        vertical-align: middle;\n",
              "    }\n",
              "\n",
              "    .dataframe tbody tr th {\n",
              "        vertical-align: top;\n",
              "    }\n",
              "\n",
              "    .dataframe thead th {\n",
              "        text-align: right;\n",
              "    }\n",
              "</style>\n",
              "<table border=\"1\" class=\"dataframe\">\n",
              "  <thead>\n",
              "    <tr style=\"text-align: right;\">\n",
              "      <th></th>\n",
              "      <th>id</th>\n",
              "      <th>title</th>\n",
              "      <th>author</th>\n",
              "      <th>text</th>\n",
              "      <th>label</th>\n",
              "    </tr>\n",
              "  </thead>\n",
              "  <tbody>\n",
              "    <tr>\n",
              "      <th>0</th>\n",
              "      <td>0</td>\n",
              "      <td>House Dem Aide: We Didnât Even See Comeyâs...</td>\n",
              "      <td>Darrell Lucus</td>\n",
              "      <td>House Dem Aide: We Didnât Even See Comeyâs...</td>\n",
              "      <td>1</td>\n",
              "    </tr>\n",
              "    <tr>\n",
              "      <th>1</th>\n",
              "      <td>1</td>\n",
              "      <td>FLYNN: Hillary Clinton, Big Woman on Campus - ...</td>\n",
              "      <td>Daniel J. Flynn</td>\n",
              "      <td>Ever get the feeling your life circles the rou...</td>\n",
              "      <td>0</td>\n",
              "    </tr>\n",
              "    <tr>\n",
              "      <th>2</th>\n",
              "      <td>2</td>\n",
              "      <td>Why the Truth Might Get You Fired</td>\n",
              "      <td>Consortiumnews.com</td>\n",
              "      <td>Why the Truth Might Get You Fired October 29, ...</td>\n",
              "      <td>1</td>\n",
              "    </tr>\n",
              "    <tr>\n",
              "      <th>3</th>\n",
              "      <td>3</td>\n",
              "      <td>15 Civilians Killed In Single US Airstrike Hav...</td>\n",
              "      <td>Jessica Purkiss</td>\n",
              "      <td>Videos 15 Civilians Killed In Single US Airstr...</td>\n",
              "      <td>1</td>\n",
              "    </tr>\n",
              "    <tr>\n",
              "      <th>4</th>\n",
              "      <td>4</td>\n",
              "      <td>Iranian woman jailed for fictional unpublished...</td>\n",
              "      <td>Howard Portnoy</td>\n",
              "      <td>Print \\nAn Iranian woman has been sentenced to...</td>\n",
              "      <td>1</td>\n",
              "    </tr>\n",
              "  </tbody>\n",
              "</table>\n",
              "</div>\n",
              "    <div class=\"colab-df-buttons\">\n",
              "\n",
              "  <div class=\"colab-df-container\">\n",
              "    <button class=\"colab-df-convert\" onclick=\"convertToInteractive('df-cb0f1f25-eb30-4bce-8e64-b2c1cd19b522')\"\n",
              "            title=\"Convert this dataframe to an interactive table.\"\n",
              "            style=\"display:none;\">\n",
              "\n",
              "  <svg xmlns=\"http://www.w3.org/2000/svg\" height=\"24px\" viewBox=\"0 -960 960 960\">\n",
              "    <path d=\"M120-120v-720h720v720H120Zm60-500h600v-160H180v160Zm220 220h160v-160H400v160Zm0 220h160v-160H400v160ZM180-400h160v-160H180v160Zm440 0h160v-160H620v160ZM180-180h160v-160H180v160Zm440 0h160v-160H620v160Z\"/>\n",
              "  </svg>\n",
              "    </button>\n",
              "\n",
              "  <style>\n",
              "    .colab-df-container {\n",
              "      display:flex;\n",
              "      gap: 12px;\n",
              "    }\n",
              "\n",
              "    .colab-df-convert {\n",
              "      background-color: #E8F0FE;\n",
              "      border: none;\n",
              "      border-radius: 50%;\n",
              "      cursor: pointer;\n",
              "      display: none;\n",
              "      fill: #1967D2;\n",
              "      height: 32px;\n",
              "      padding: 0 0 0 0;\n",
              "      width: 32px;\n",
              "    }\n",
              "\n",
              "    .colab-df-convert:hover {\n",
              "      background-color: #E2EBFA;\n",
              "      box-shadow: 0px 1px 2px rgba(60, 64, 67, 0.3), 0px 1px 3px 1px rgba(60, 64, 67, 0.15);\n",
              "      fill: #174EA6;\n",
              "    }\n",
              "\n",
              "    .colab-df-buttons div {\n",
              "      margin-bottom: 4px;\n",
              "    }\n",
              "\n",
              "    [theme=dark] .colab-df-convert {\n",
              "      background-color: #3B4455;\n",
              "      fill: #D2E3FC;\n",
              "    }\n",
              "\n",
              "    [theme=dark] .colab-df-convert:hover {\n",
              "      background-color: #434B5C;\n",
              "      box-shadow: 0px 1px 3px 1px rgba(0, 0, 0, 0.15);\n",
              "      filter: drop-shadow(0px 1px 2px rgba(0, 0, 0, 0.3));\n",
              "      fill: #FFFFFF;\n",
              "    }\n",
              "  </style>\n",
              "\n",
              "    <script>\n",
              "      const buttonEl =\n",
              "        document.querySelector('#df-cb0f1f25-eb30-4bce-8e64-b2c1cd19b522 button.colab-df-convert');\n",
              "      buttonEl.style.display =\n",
              "        google.colab.kernel.accessAllowed ? 'block' : 'none';\n",
              "\n",
              "      async function convertToInteractive(key) {\n",
              "        const element = document.querySelector('#df-cb0f1f25-eb30-4bce-8e64-b2c1cd19b522');\n",
              "        const dataTable =\n",
              "          await google.colab.kernel.invokeFunction('convertToInteractive',\n",
              "                                                    [key], {});\n",
              "        if (!dataTable) return;\n",
              "\n",
              "        const docLinkHtml = 'Like what you see? Visit the ' +\n",
              "          '<a target=\"_blank\" href=https://colab.research.google.com/notebooks/data_table.ipynb>data table notebook</a>'\n",
              "          + ' to learn more about interactive tables.';\n",
              "        element.innerHTML = '';\n",
              "        dataTable['output_type'] = 'display_data';\n",
              "        await google.colab.output.renderOutput(dataTable, element);\n",
              "        const docLink = document.createElement('div');\n",
              "        docLink.innerHTML = docLinkHtml;\n",
              "        element.appendChild(docLink);\n",
              "      }\n",
              "    </script>\n",
              "  </div>\n",
              "\n",
              "\n",
              "    <div id=\"df-24bb9b38-f995-4858-b8cd-2a4af0f2e1da\">\n",
              "      <button class=\"colab-df-quickchart\" onclick=\"quickchart('df-24bb9b38-f995-4858-b8cd-2a4af0f2e1da')\"\n",
              "                title=\"Suggest charts\"\n",
              "                style=\"display:none;\">\n",
              "\n",
              "<svg xmlns=\"http://www.w3.org/2000/svg\" height=\"24px\"viewBox=\"0 0 24 24\"\n",
              "     width=\"24px\">\n",
              "    <g>\n",
              "        <path d=\"M19 3H5c-1.1 0-2 .9-2 2v14c0 1.1.9 2 2 2h14c1.1 0 2-.9 2-2V5c0-1.1-.9-2-2-2zM9 17H7v-7h2v7zm4 0h-2V7h2v10zm4 0h-2v-4h2v4z\"/>\n",
              "    </g>\n",
              "</svg>\n",
              "      </button>\n",
              "\n",
              "<style>\n",
              "  .colab-df-quickchart {\n",
              "      --bg-color: #E8F0FE;\n",
              "      --fill-color: #1967D2;\n",
              "      --hover-bg-color: #E2EBFA;\n",
              "      --hover-fill-color: #174EA6;\n",
              "      --disabled-fill-color: #AAA;\n",
              "      --disabled-bg-color: #DDD;\n",
              "  }\n",
              "\n",
              "  [theme=dark] .colab-df-quickchart {\n",
              "      --bg-color: #3B4455;\n",
              "      --fill-color: #D2E3FC;\n",
              "      --hover-bg-color: #434B5C;\n",
              "      --hover-fill-color: #FFFFFF;\n",
              "      --disabled-bg-color: #3B4455;\n",
              "      --disabled-fill-color: #666;\n",
              "  }\n",
              "\n",
              "  .colab-df-quickchart {\n",
              "    background-color: var(--bg-color);\n",
              "    border: none;\n",
              "    border-radius: 50%;\n",
              "    cursor: pointer;\n",
              "    display: none;\n",
              "    fill: var(--fill-color);\n",
              "    height: 32px;\n",
              "    padding: 0;\n",
              "    width: 32px;\n",
              "  }\n",
              "\n",
              "  .colab-df-quickchart:hover {\n",
              "    background-color: var(--hover-bg-color);\n",
              "    box-shadow: 0 1px 2px rgba(60, 64, 67, 0.3), 0 1px 3px 1px rgba(60, 64, 67, 0.15);\n",
              "    fill: var(--button-hover-fill-color);\n",
              "  }\n",
              "\n",
              "  .colab-df-quickchart-complete:disabled,\n",
              "  .colab-df-quickchart-complete:disabled:hover {\n",
              "    background-color: var(--disabled-bg-color);\n",
              "    fill: var(--disabled-fill-color);\n",
              "    box-shadow: none;\n",
              "  }\n",
              "\n",
              "  .colab-df-spinner {\n",
              "    border: 2px solid var(--fill-color);\n",
              "    border-color: transparent;\n",
              "    border-bottom-color: var(--fill-color);\n",
              "    animation:\n",
              "      spin 1s steps(1) infinite;\n",
              "  }\n",
              "\n",
              "  @keyframes spin {\n",
              "    0% {\n",
              "      border-color: transparent;\n",
              "      border-bottom-color: var(--fill-color);\n",
              "      border-left-color: var(--fill-color);\n",
              "    }\n",
              "    20% {\n",
              "      border-color: transparent;\n",
              "      border-left-color: var(--fill-color);\n",
              "      border-top-color: var(--fill-color);\n",
              "    }\n",
              "    30% {\n",
              "      border-color: transparent;\n",
              "      border-left-color: var(--fill-color);\n",
              "      border-top-color: var(--fill-color);\n",
              "      border-right-color: var(--fill-color);\n",
              "    }\n",
              "    40% {\n",
              "      border-color: transparent;\n",
              "      border-right-color: var(--fill-color);\n",
              "      border-top-color: var(--fill-color);\n",
              "    }\n",
              "    60% {\n",
              "      border-color: transparent;\n",
              "      border-right-color: var(--fill-color);\n",
              "    }\n",
              "    80% {\n",
              "      border-color: transparent;\n",
              "      border-right-color: var(--fill-color);\n",
              "      border-bottom-color: var(--fill-color);\n",
              "    }\n",
              "    90% {\n",
              "      border-color: transparent;\n",
              "      border-bottom-color: var(--fill-color);\n",
              "    }\n",
              "  }\n",
              "</style>\n",
              "\n",
              "      <script>\n",
              "        async function quickchart(key) {\n",
              "          const quickchartButtonEl =\n",
              "            document.querySelector('#' + key + ' button');\n",
              "          quickchartButtonEl.disabled = true;  // To prevent multiple clicks.\n",
              "          quickchartButtonEl.classList.add('colab-df-spinner');\n",
              "          try {\n",
              "            const charts = await google.colab.kernel.invokeFunction(\n",
              "                'suggestCharts', [key], {});\n",
              "          } catch (error) {\n",
              "            console.error('Error during call to suggestCharts:', error);\n",
              "          }\n",
              "          quickchartButtonEl.classList.remove('colab-df-spinner');\n",
              "          quickchartButtonEl.classList.add('colab-df-quickchart-complete');\n",
              "        }\n",
              "        (() => {\n",
              "          let quickchartButtonEl =\n",
              "            document.querySelector('#df-24bb9b38-f995-4858-b8cd-2a4af0f2e1da button');\n",
              "          quickchartButtonEl.style.display =\n",
              "            google.colab.kernel.accessAllowed ? 'block' : 'none';\n",
              "        })();\n",
              "      </script>\n",
              "    </div>\n",
              "\n",
              "    </div>\n",
              "  </div>\n"
            ],
            "application/vnd.google.colaboratory.intrinsic+json": {
              "type": "dataframe",
              "variable_name": "news_dataset",
              "summary": "{\n  \"name\": \"news_dataset\",\n  \"rows\": 11397,\n  \"fields\": [\n    {\n      \"column\": \"id\",\n      \"properties\": {\n        \"dtype\": \"number\",\n        \"std\": 3290,\n        \"min\": 0,\n        \"max\": 11396,\n        \"num_unique_values\": 11397,\n        \"samples\": [\n          1766,\n          2628,\n          304\n        ],\n        \"semantic_type\": \"\",\n        \"description\": \"\"\n      }\n    },\n    {\n      \"column\": \"title\",\n      \"properties\": {\n        \"dtype\": \"string\",\n        \"num_unique_values\": 10944,\n        \"samples\": [\n          \"Hillary Clinton and Bernie Sanders Meet as Their Battle Ends - The New York Times\",\n          \"White House to Be Lit in Blue in Honor of Autism Awareness - Breitbart\",\n          \"Americans Are So Disconnected From Reality That \\u00e2\\u0080\\u009cInsouciant\\u00e2\\u0080\\u009d Has Become An Euphemism\"\n        ],\n        \"semantic_type\": \"\",\n        \"description\": \"\"\n      }\n    },\n    {\n      \"column\": \"author\",\n      \"properties\": {\n        \"dtype\": \"category\",\n        \"num_unique_values\": 2892,\n        \"samples\": [\n          \"Truth Detector\",\n          \"Mark Bittman\",\n          \"Human Rights Watch\"\n        ],\n        \"semantic_type\": \"\",\n        \"description\": \"\"\n      }\n    },\n    {\n      \"column\": \"text\",\n      \"properties\": {\n        \"dtype\": \"string\",\n        \"num_unique_values\": 11204,\n        \"samples\": [\n          \"(Want to get this briefing by email? Here\\u00e2\\u0080\\u0099s the  .) Good evening. Here\\u00e2\\u0080\\u0099s the latest. 1.   Donald  Trump\\u00e2\\u0080\\u0099s latest stop on his victory tour was a rally in Des Moines. The event came a day after tapping Iowa\\u00e2\\u0080\\u0099s governor, Terry Branstad, to be ambassador to China. Mr. Trump is facing criticism for lashing out at an Indiana union local president who accused Mr. Trump of lying about saving jobs at the Carrier plant in Indianapolis. _____ 2. Mr. Trump  named Andrew Puzder, above, a   executive and critic of the minimum wage, as his choice for labor secretary. Democrats are promising a thorough vetting process of the candidates Mr. Trump has nominated for cabinet positions  \\u00e2\\u0080\\u0094   like that of Scott Pruitt, an ally of the fossil fuel industry, to run the Environmental Protection Agency. Here\\u00e2\\u0080\\u0099s a look at what a Trump administration could do to influence climate change. _____ 3. \\u00e2\\u0080\\u009cThis is all uncharted territory. \\u00e2\\u0080\\u009d That\\u00e2\\u0080\\u0099s the feeling in America\\u00e2\\u0080\\u0099s auto industry, which expects to be reshaped by the Trump administration. A chief concern is Mr. Trump\\u00e2\\u0080\\u0099s threat of tariffs on the millions of vehicles sold in the U. S. each year that were built in Japan, Korea and other countries. _____ 4. John Glenn, above center, who was hailed as a national hero after becoming the first American to orbit Earth, died on Thursday. He was 95. Mr. Glenn also had a   career as a U. S. Senator from Ohio. In his final Senate term, he got his wish to return to orbit and, at 77 years old, was the oldest person to go into space. _____ 5. South Korean lawmakers are expected to vote on Friday on a motion to impeach President Park   over a corruption scandal. Here are the accusations against her. As the protests against her have grown, Ms. Park has mostly dropped from public view, appearing only to make televised apologies. \\u00e2\\u0080\\u009cMy heart is crushed,\\u00e2\\u0080\\u009d she said in one. Most Koreans say Ms. Park brought the disgrace on herself, but in some cities, she is seen as an innocent victim of a scandal. _____ 6. President Hassan Rouhani of Iran has signed a wave of oil deals with Asian and European energy companies in recent weeks. \\u00e2\\u0080\\u009cOur officials are in a rush to sign contracts with big oil companies in order to have leverage when Trump enters the White House,\\u00e2\\u0080\\u009d said an economist with close ties to the government. _____ 7. A watchdog group in Britain said it found hundreds of accusations of police sexual abuse in England and Wales over the two years through the end of March. Among those targeted were victims of domestic abuse, drug and alcohol addicts and people who work in the sex industry. _____ 8. When 36 people died in an inferno at a converted warehouse in Oakland, Calif. last week, we deployed a team of journalists to investigate it and document the stories of a community reeling from the country\\u00e2\\u0080\\u0099s worst structural fire in a decade. Instead of revealing our findings in an article at the end of our reporting, we\\u00e2\\u0080\\u0099ll be telling you what we learn as we learn it. Email us at oaklandfire@nytimes. com if you have suggestions on what we should explore. _____ 9. The world\\u00e2\\u0080\\u0099s tallest land animal is on the verge of extinction. The giraffe population has declined by 40 percent over the past 30 years, according to a new report by an international monitoring group. Illegal hunting and the loss of habitat are being blamed. _____ 10. Finally, we told you yesterday about our film critics\\u00e2\\u0080\\u0099 favorite movies of the year. Now, let\\u00e2\\u0080\\u0099s review the year\\u00e2\\u0080\\u0099s great performers  \\u00e2\\u0080\\u0094   in movies, at least. Among those featured in our magazine\\u00e2\\u0080\\u0099s newest issue: Emma Stone, Ruth Negga, above, Viola Davis, Denzel Washington, Don Cheadle. \\u00e2\\u0080\\u009cI love the movie magic of no longer seeing an actor  \\u00e2\\u0080\\u0094   or especially a star  \\u00e2\\u0080\\u0094   but a person,\\u00e2\\u0080\\u009d said one of our critics. Photographs may appear out of order for some readers. Viewing this version of the briefing should help. Your Evening Briefing is posted at 6 p. m. Eastern. And don\\u00e2\\u0080\\u0099t miss Your Morning Briefing, posted weekdays at 6 a. m. Eastern, and Your Weekend Briefing, posted at 6 a. m. Sundays. Want to look back? Here\\u00e2\\u0080\\u0099s last night\\u00e2\\u0080\\u0099s briefing. What did you like? What do you want to see here? Let us know at briefing@nytimes. com.\",\n          \"By Jonas E. Alexis on November 3, 2016 Putin: \\u00e2\\u0080\\u009cIs this the result of erosion of the traditional national values? I don\\u00e2\\u0080\\u0099t even know how to explain it. Maybe they have a guilty conscience because of the refugee crises. \\\" \\u00e2\\u0080\\u009cWhy can\\u00e2\\u0080\\u0099t those people get a simple concept through their heads?\\u00e2\\u0080\\u009d \\u00e2\\u0080\\u00a6by Jonas E. Alexis \\n\\nNo, the Khazarian Mafia and their lackeys will never report that Vladimir Putin, the man who has been called all sorts of disgusting names, is actually fighting in order to save the moral fabric of Europe. In 2014, he argued that \\u00e2\\u0080\\u009c a faith in God and a belief in Satan \\u00e2\\u0080\\u009d are incompatible. \\nPutin moved on to argue that any policy that puts \\u00e2\\u0080\\u009cmulti-child family and a same-sex partnership\\u00e2\\u0080\\u009d on the same level is on \\u00e2\\u0080\\u009cthe path to degradation.\\u00e2\\u0080\\u009d \\nMore recently, there have been numerous rape allegations in Europe. In fact, many so-called refugees have been literally caught with their pants down. The British newspaper the Independent has recently reported: \\n\\u00e2\\u0080\\u009c A man who raped a 10-year-old boy at a swimming pool in Austria has had his conviction overturned after judges found he may have believed the child consented. \\n\\u00e2\\u0080\\u009cPolice said the 20-year-old Iraqi refugee, who has not been named, assaulted his victim in a toilet cubicle at the Theresienbad swimming pool in Vienna on 2 December last year. \\n\\u00e2\\u0080\\u009cThe child reported the rape to a lifeguard and his attacker was arrested at the scene, reportedly telling officers in initial interviews that he was experiencing a \\u00e2\\u0080\\u0098sexual emergency\\u00e2\\u0080\\u0099 after not having sex in four months.\\u00e2\\u0080\\u009d \\nObviously there is a problem here. Putin responded by saying: \\u00e2\\u0080\\u009c So, what\\u00e2\\u0080\\u0099 going on now? A refugee raped a child in one of the European countries. The court let him free on two grounds: he doesn\\u00e2\\u0080\\u0099t speak the language of the residence country, and he didn\\u00e2\\u0080\\u0099t understand that [the] boy was against the rape. It\\u00e2\\u0080\\u0099s just hard to imagine what Europeans are going\\u00e2\\u0080\\u00a6 \\u00e2\\u0080\\u009cIs this the result of erosion of the traditional national values? I don\\u00e2\\u0080\\u0099t even know how to explain it. Maybe they have a guilty conscience because of the refugee crises. A society that cannot defend its children today, has no tomorrow. It has no future.\\u00e2\\u0080\\u009d \\nIndeed. We should add that the Neoconservative Mafia and their marionettes are largely responsible for the rape crisis in Europe. Never forget what flaming Neocon Daniel Pipes said. \\nAfter postulating that \\u00e2\\u0080\\u009cWestern governments should respond by helping the rebels to prevent Assad from crushing them,\\u00e2\\u0080\\u009d Pipes added back in 2013: \\u00e2\\u0080\\u009cthe West should prevent either side in the civil war from emerging victorious by helping whichever side is losing, so as to prolong their conflict.\\u00e2\\u0080\\u0099\\u00e2\\u0080\\u009d [1] \\nDid you catch the diabolical proposition here? Pipes himself admitted that this ideology is really weird: \\u00e2\\u0080\\u009cThis policy recommendation of \\u00e2\\u0080\\u0098helping whichever side is losing\\u00e2\\u0080\\u0099 sounds odd, I admit, but it is strategic.\\u00e2\\u0080\\u009d [2] \\nWell, it is only \\u00e2\\u0080\\u009cstrategic\\u00e2\\u0080\\u009d for Pipes and his minions, who have been waging a frontal war against the moral and political order from time immemorial. Their subversive movements across Europe have been responsible for Bolshevik Revolution, for Abu Ghraib, and indeed for the debacle in Syria. So, whenever people like Pipes beat the perpetual war drum, rest assured that rape will largely be the end result. \\nFurthermore, if the so-called refugees are raping boys by the numbers, then European officials should fire a moral and political shot at people like Daniel Pipes and other people who don\\u00e2\\u0080\\u0099t give a flip about saving both the Middle East and indeed Europe from slow destruction. If the late rabbi Ovadia Yosef was right, that Goyim are donkeys and that they \\u00e2\\u0080\\u009cwere born to serve\\u00e2\\u0080\\u009d Jews, [3] then it doesn\\u00e2\\u0080\\u0099t really matter who gets raped in the process at all. \\nYosef himself said that the Goyim \\u00e2\\u0080\\u009cneed to die, but [God] will give them longevity. Why? Imagine that one\\u00e2\\u0080\\u0099s donkey would die, they\\u00e2\\u0080\\u0099d lose their money. This is his servant\\u00e2\\u0080\\u00a6 That\\u00e2\\u0080\\u0099s why he gets a long life, to work well for this Jew.\\u00e2\\u0080\\u009d [4] \\nWell, the young Goyim are dying in Europe, and no serious politician gives a flip about them because those politicians, as we shall see in the next installment, are in cahoots with the Khazarian Mafia in Israel and other places. Putin again is trying to help Europe by indirectly appealing to an implicit moral law, which he says is imbedded in traditional values. \\n[1] Daniel Pipes, \\u00e2\\u0080\\u009cSupport the Syrian Rebels?,\\u00e2\\u0080\\u009d National Review , May 12, 2013. \\n[2] Ibid. \\n[3] \\u00e2\\u0080\\u009cTradition Today: Jews and gentiles,\\u00e2\\u0080\\u009d Jerusalem Post , November 12, 2010. \\n[4] Lazar Berman, \\u00e2\\u0080\\u009c5 of Ovadia Yosef\\u00e2\\u0080\\u0099s most controversial quotations,\\u00e2\\u0080\\u009d Times of Israel , October 9, 2013. Related Posts:\",\n          \"Representative Doug Lamborn, R, CO, has introduced a pair of bills to eliminate the federal tax dollars that fund the budgets of National Public Radio (NPR) and the Corporation for Public Broadcasting (CPB). [Upon the filing of H. R. 726 and H. R. 727, Lamborn said congressional Republicans need to prove they take fiscal responsibility seriously.  \\u00e2\\u0080\\u009cAmerican taxpayers do not want their   dollars funding superfluous government programs just because that is the way things have always been done,\\u00e2\\u0080\\u009d Lamborn wrote on his congressional webpage. The Coloradan introduced the bills to \\u00e2\\u0080\\u009cpermanently defund the Corporation for Public Broadcasting and National Public Radio. CPB received $445 million during Fiscal Year 2016, and this money could be put to better use rebuilding our military and enhancing our national security. \\u00e2\\u0080\\u009d Lamborn insisted that with a $20 trillion national debt, cuts must be made since these broadcasting services have been able to pick up funding from private sources in the past, cutting the tax dollars flowing into their coffers now is a good start at reducing government spending. Rep. Lamborn, though, took pains to say that this proposal isn\\u00e2\\u0080\\u0099t about the content aired by either of these broadcasting services. \\u00e2\\u0080\\u009cThis is not about content, as CBP certainly airs some quality programs,\\u00e2\\u0080\\u009d he wrote, \\u00e2\\u0080\\u009cthe point is that it is perfectly capable of standing on its own two feet and not on the financial shoulders of the American taxpayers. \\u00e2\\u0080\\u009d Lamborn noted that the savings to the taxpayer could reach upwards to $500 million annually. NPR features a webpage that breaks down its expenditures, but a recent assessment found that NPR receives about about 40 percent of its $166 million budget from the federal government, or about $66 million from taxpayers annually. Follow Warner Todd Huston on Twitter @warnerthuston or email the author at igcolonel@hotmail. com. \\u00e2\\u0080\\u009d\"\n        ],\n        \"semantic_type\": \"\",\n        \"description\": \"\"\n      }\n    },\n    {\n      \"column\": \"label\",\n      \"properties\": {\n        \"dtype\": \"number\",\n        \"std\": 0,\n        \"min\": 0,\n        \"max\": 1,\n        \"num_unique_values\": 2,\n        \"samples\": [\n          0,\n          1\n        ],\n        \"semantic_type\": \"\",\n        \"description\": \"\"\n      }\n    }\n  ]\n}"
            }
          },
          "metadata": {},
          "execution_count": 7
        }
      ]
    },
    {
      "cell_type": "markdown",
      "source": [
        "0 --> Real News\n",
        "\n",
        "1 --> Fake News"
      ],
      "metadata": {
        "id": "VaiLAbBNUCqp"
      }
    },
    {
      "cell_type": "code",
      "source": [
        "news_dataset.shape"
      ],
      "metadata": {
        "colab": {
          "base_uri": "https://localhost:8080/"
        },
        "id": "iDCFrPV3UAKG",
        "outputId": "b9251a17-f533-4289-90d0-fed7c170ed97"
      },
      "execution_count": 8,
      "outputs": [
        {
          "output_type": "execute_result",
          "data": {
            "text/plain": [
              "(11397, 5)"
            ]
          },
          "metadata": {},
          "execution_count": 8
        }
      ]
    },
    {
      "cell_type": "code",
      "source": [
        "# checking for missing values\n",
        "news_dataset.isnull().sum()"
      ],
      "metadata": {
        "colab": {
          "base_uri": "https://localhost:8080/",
          "height": 241
        },
        "id": "teR95lUhUE7X",
        "outputId": "7cf7a9a6-6720-47b2-c163-c2343dabb1cb"
      },
      "execution_count": 9,
      "outputs": [
        {
          "output_type": "execute_result",
          "data": {
            "text/plain": [
              "id           0\n",
              "title      310\n",
              "author    1064\n",
              "text        23\n",
              "label        0\n",
              "dtype: int64"
            ],
            "text/html": [
              "<div>\n",
              "<style scoped>\n",
              "    .dataframe tbody tr th:only-of-type {\n",
              "        vertical-align: middle;\n",
              "    }\n",
              "\n",
              "    .dataframe tbody tr th {\n",
              "        vertical-align: top;\n",
              "    }\n",
              "\n",
              "    .dataframe thead th {\n",
              "        text-align: right;\n",
              "    }\n",
              "</style>\n",
              "<table border=\"1\" class=\"dataframe\">\n",
              "  <thead>\n",
              "    <tr style=\"text-align: right;\">\n",
              "      <th></th>\n",
              "      <th>0</th>\n",
              "    </tr>\n",
              "  </thead>\n",
              "  <tbody>\n",
              "    <tr>\n",
              "      <th>id</th>\n",
              "      <td>0</td>\n",
              "    </tr>\n",
              "    <tr>\n",
              "      <th>title</th>\n",
              "      <td>310</td>\n",
              "    </tr>\n",
              "    <tr>\n",
              "      <th>author</th>\n",
              "      <td>1064</td>\n",
              "    </tr>\n",
              "    <tr>\n",
              "      <th>text</th>\n",
              "      <td>23</td>\n",
              "    </tr>\n",
              "    <tr>\n",
              "      <th>label</th>\n",
              "      <td>0</td>\n",
              "    </tr>\n",
              "  </tbody>\n",
              "</table>\n",
              "</div><br><label><b>dtype:</b> int64</label>"
            ]
          },
          "metadata": {},
          "execution_count": 9
        }
      ]
    },
    {
      "cell_type": "code",
      "source": [
        "# replacing the missing values with null string\n",
        "news_dataset = news_dataset.fillna('')"
      ],
      "metadata": {
        "id": "36AOagLMUM33"
      },
      "execution_count": 10,
      "outputs": []
    },
    {
      "cell_type": "code",
      "source": [
        "# merging the author name and news title\n",
        "news_dataset['content'] = news_dataset['author']+' '+news_dataset['title']"
      ],
      "metadata": {
        "id": "pT4TmmBwUTDk"
      },
      "execution_count": 11,
      "outputs": []
    },
    {
      "cell_type": "code",
      "source": [
        "news_dataset.head()"
      ],
      "metadata": {
        "colab": {
          "base_uri": "https://localhost:8080/",
          "height": 538
        },
        "id": "iqg36CrEUZEA",
        "outputId": "dc90d61e-ddd7-4b40-94d3-fa5925fd0d1b"
      },
      "execution_count": 12,
      "outputs": [
        {
          "output_type": "execute_result",
          "data": {
            "text/plain": [
              "   id                                              title              author  \\\n",
              "0   0  House Dem Aide: We Didnât Even See Comeyâs...       Darrell Lucus   \n",
              "1   1  FLYNN: Hillary Clinton, Big Woman on Campus - ...     Daniel J. Flynn   \n",
              "2   2                  Why the Truth Might Get You Fired  Consortiumnews.com   \n",
              "3   3  15 Civilians Killed In Single US Airstrike Hav...     Jessica Purkiss   \n",
              "4   4  Iranian woman jailed for fictional unpublished...      Howard Portnoy   \n",
              "\n",
              "                                                text  label  \\\n",
              "0  House Dem Aide: We Didnât Even See Comeyâs...      1   \n",
              "1  Ever get the feeling your life circles the rou...      0   \n",
              "2  Why the Truth Might Get You Fired October 29, ...      1   \n",
              "3  Videos 15 Civilians Killed In Single US Airstr...      1   \n",
              "4  Print \\nAn Iranian woman has been sentenced to...      1   \n",
              "\n",
              "                                             content  \n",
              "0  Darrell Lucus House Dem Aide: We Didnât Even...  \n",
              "1  Daniel J. Flynn FLYNN: Hillary Clinton, Big Wo...  \n",
              "2  Consortiumnews.com Why the Truth Might Get You...  \n",
              "3  Jessica Purkiss 15 Civilians Killed In Single ...  \n",
              "4  Howard Portnoy Iranian woman jailed for fictio...  "
            ],
            "text/html": [
              "\n",
              "  <div id=\"df-df1b23b6-61b8-4faf-b728-0ad13435d076\" class=\"colab-df-container\">\n",
              "    <div>\n",
              "<style scoped>\n",
              "    .dataframe tbody tr th:only-of-type {\n",
              "        vertical-align: middle;\n",
              "    }\n",
              "\n",
              "    .dataframe tbody tr th {\n",
              "        vertical-align: top;\n",
              "    }\n",
              "\n",
              "    .dataframe thead th {\n",
              "        text-align: right;\n",
              "    }\n",
              "</style>\n",
              "<table border=\"1\" class=\"dataframe\">\n",
              "  <thead>\n",
              "    <tr style=\"text-align: right;\">\n",
              "      <th></th>\n",
              "      <th>id</th>\n",
              "      <th>title</th>\n",
              "      <th>author</th>\n",
              "      <th>text</th>\n",
              "      <th>label</th>\n",
              "      <th>content</th>\n",
              "    </tr>\n",
              "  </thead>\n",
              "  <tbody>\n",
              "    <tr>\n",
              "      <th>0</th>\n",
              "      <td>0</td>\n",
              "      <td>House Dem Aide: We Didnât Even See Comeyâs...</td>\n",
              "      <td>Darrell Lucus</td>\n",
              "      <td>House Dem Aide: We Didnât Even See Comeyâs...</td>\n",
              "      <td>1</td>\n",
              "      <td>Darrell Lucus House Dem Aide: We Didnât Even...</td>\n",
              "    </tr>\n",
              "    <tr>\n",
              "      <th>1</th>\n",
              "      <td>1</td>\n",
              "      <td>FLYNN: Hillary Clinton, Big Woman on Campus - ...</td>\n",
              "      <td>Daniel J. Flynn</td>\n",
              "      <td>Ever get the feeling your life circles the rou...</td>\n",
              "      <td>0</td>\n",
              "      <td>Daniel J. Flynn FLYNN: Hillary Clinton, Big Wo...</td>\n",
              "    </tr>\n",
              "    <tr>\n",
              "      <th>2</th>\n",
              "      <td>2</td>\n",
              "      <td>Why the Truth Might Get You Fired</td>\n",
              "      <td>Consortiumnews.com</td>\n",
              "      <td>Why the Truth Might Get You Fired October 29, ...</td>\n",
              "      <td>1</td>\n",
              "      <td>Consortiumnews.com Why the Truth Might Get You...</td>\n",
              "    </tr>\n",
              "    <tr>\n",
              "      <th>3</th>\n",
              "      <td>3</td>\n",
              "      <td>15 Civilians Killed In Single US Airstrike Hav...</td>\n",
              "      <td>Jessica Purkiss</td>\n",
              "      <td>Videos 15 Civilians Killed In Single US Airstr...</td>\n",
              "      <td>1</td>\n",
              "      <td>Jessica Purkiss 15 Civilians Killed In Single ...</td>\n",
              "    </tr>\n",
              "    <tr>\n",
              "      <th>4</th>\n",
              "      <td>4</td>\n",
              "      <td>Iranian woman jailed for fictional unpublished...</td>\n",
              "      <td>Howard Portnoy</td>\n",
              "      <td>Print \\nAn Iranian woman has been sentenced to...</td>\n",
              "      <td>1</td>\n",
              "      <td>Howard Portnoy Iranian woman jailed for fictio...</td>\n",
              "    </tr>\n",
              "  </tbody>\n",
              "</table>\n",
              "</div>\n",
              "    <div class=\"colab-df-buttons\">\n",
              "\n",
              "  <div class=\"colab-df-container\">\n",
              "    <button class=\"colab-df-convert\" onclick=\"convertToInteractive('df-df1b23b6-61b8-4faf-b728-0ad13435d076')\"\n",
              "            title=\"Convert this dataframe to an interactive table.\"\n",
              "            style=\"display:none;\">\n",
              "\n",
              "  <svg xmlns=\"http://www.w3.org/2000/svg\" height=\"24px\" viewBox=\"0 -960 960 960\">\n",
              "    <path d=\"M120-120v-720h720v720H120Zm60-500h600v-160H180v160Zm220 220h160v-160H400v160Zm0 220h160v-160H400v160ZM180-400h160v-160H180v160Zm440 0h160v-160H620v160ZM180-180h160v-160H180v160Zm440 0h160v-160H620v160Z\"/>\n",
              "  </svg>\n",
              "    </button>\n",
              "\n",
              "  <style>\n",
              "    .colab-df-container {\n",
              "      display:flex;\n",
              "      gap: 12px;\n",
              "    }\n",
              "\n",
              "    .colab-df-convert {\n",
              "      background-color: #E8F0FE;\n",
              "      border: none;\n",
              "      border-radius: 50%;\n",
              "      cursor: pointer;\n",
              "      display: none;\n",
              "      fill: #1967D2;\n",
              "      height: 32px;\n",
              "      padding: 0 0 0 0;\n",
              "      width: 32px;\n",
              "    }\n",
              "\n",
              "    .colab-df-convert:hover {\n",
              "      background-color: #E2EBFA;\n",
              "      box-shadow: 0px 1px 2px rgba(60, 64, 67, 0.3), 0px 1px 3px 1px rgba(60, 64, 67, 0.15);\n",
              "      fill: #174EA6;\n",
              "    }\n",
              "\n",
              "    .colab-df-buttons div {\n",
              "      margin-bottom: 4px;\n",
              "    }\n",
              "\n",
              "    [theme=dark] .colab-df-convert {\n",
              "      background-color: #3B4455;\n",
              "      fill: #D2E3FC;\n",
              "    }\n",
              "\n",
              "    [theme=dark] .colab-df-convert:hover {\n",
              "      background-color: #434B5C;\n",
              "      box-shadow: 0px 1px 3px 1px rgba(0, 0, 0, 0.15);\n",
              "      filter: drop-shadow(0px 1px 2px rgba(0, 0, 0, 0.3));\n",
              "      fill: #FFFFFF;\n",
              "    }\n",
              "  </style>\n",
              "\n",
              "    <script>\n",
              "      const buttonEl =\n",
              "        document.querySelector('#df-df1b23b6-61b8-4faf-b728-0ad13435d076 button.colab-df-convert');\n",
              "      buttonEl.style.display =\n",
              "        google.colab.kernel.accessAllowed ? 'block' : 'none';\n",
              "\n",
              "      async function convertToInteractive(key) {\n",
              "        const element = document.querySelector('#df-df1b23b6-61b8-4faf-b728-0ad13435d076');\n",
              "        const dataTable =\n",
              "          await google.colab.kernel.invokeFunction('convertToInteractive',\n",
              "                                                    [key], {});\n",
              "        if (!dataTable) return;\n",
              "\n",
              "        const docLinkHtml = 'Like what you see? Visit the ' +\n",
              "          '<a target=\"_blank\" href=https://colab.research.google.com/notebooks/data_table.ipynb>data table notebook</a>'\n",
              "          + ' to learn more about interactive tables.';\n",
              "        element.innerHTML = '';\n",
              "        dataTable['output_type'] = 'display_data';\n",
              "        await google.colab.output.renderOutput(dataTable, element);\n",
              "        const docLink = document.createElement('div');\n",
              "        docLink.innerHTML = docLinkHtml;\n",
              "        element.appendChild(docLink);\n",
              "      }\n",
              "    </script>\n",
              "  </div>\n",
              "\n",
              "\n",
              "    <div id=\"df-d32a8362-8b9d-4180-a6e7-9e09cf973ecc\">\n",
              "      <button class=\"colab-df-quickchart\" onclick=\"quickchart('df-d32a8362-8b9d-4180-a6e7-9e09cf973ecc')\"\n",
              "                title=\"Suggest charts\"\n",
              "                style=\"display:none;\">\n",
              "\n",
              "<svg xmlns=\"http://www.w3.org/2000/svg\" height=\"24px\"viewBox=\"0 0 24 24\"\n",
              "     width=\"24px\">\n",
              "    <g>\n",
              "        <path d=\"M19 3H5c-1.1 0-2 .9-2 2v14c0 1.1.9 2 2 2h14c1.1 0 2-.9 2-2V5c0-1.1-.9-2-2-2zM9 17H7v-7h2v7zm4 0h-2V7h2v10zm4 0h-2v-4h2v4z\"/>\n",
              "    </g>\n",
              "</svg>\n",
              "      </button>\n",
              "\n",
              "<style>\n",
              "  .colab-df-quickchart {\n",
              "      --bg-color: #E8F0FE;\n",
              "      --fill-color: #1967D2;\n",
              "      --hover-bg-color: #E2EBFA;\n",
              "      --hover-fill-color: #174EA6;\n",
              "      --disabled-fill-color: #AAA;\n",
              "      --disabled-bg-color: #DDD;\n",
              "  }\n",
              "\n",
              "  [theme=dark] .colab-df-quickchart {\n",
              "      --bg-color: #3B4455;\n",
              "      --fill-color: #D2E3FC;\n",
              "      --hover-bg-color: #434B5C;\n",
              "      --hover-fill-color: #FFFFFF;\n",
              "      --disabled-bg-color: #3B4455;\n",
              "      --disabled-fill-color: #666;\n",
              "  }\n",
              "\n",
              "  .colab-df-quickchart {\n",
              "    background-color: var(--bg-color);\n",
              "    border: none;\n",
              "    border-radius: 50%;\n",
              "    cursor: pointer;\n",
              "    display: none;\n",
              "    fill: var(--fill-color);\n",
              "    height: 32px;\n",
              "    padding: 0;\n",
              "    width: 32px;\n",
              "  }\n",
              "\n",
              "  .colab-df-quickchart:hover {\n",
              "    background-color: var(--hover-bg-color);\n",
              "    box-shadow: 0 1px 2px rgba(60, 64, 67, 0.3), 0 1px 3px 1px rgba(60, 64, 67, 0.15);\n",
              "    fill: var(--button-hover-fill-color);\n",
              "  }\n",
              "\n",
              "  .colab-df-quickchart-complete:disabled,\n",
              "  .colab-df-quickchart-complete:disabled:hover {\n",
              "    background-color: var(--disabled-bg-color);\n",
              "    fill: var(--disabled-fill-color);\n",
              "    box-shadow: none;\n",
              "  }\n",
              "\n",
              "  .colab-df-spinner {\n",
              "    border: 2px solid var(--fill-color);\n",
              "    border-color: transparent;\n",
              "    border-bottom-color: var(--fill-color);\n",
              "    animation:\n",
              "      spin 1s steps(1) infinite;\n",
              "  }\n",
              "\n",
              "  @keyframes spin {\n",
              "    0% {\n",
              "      border-color: transparent;\n",
              "      border-bottom-color: var(--fill-color);\n",
              "      border-left-color: var(--fill-color);\n",
              "    }\n",
              "    20% {\n",
              "      border-color: transparent;\n",
              "      border-left-color: var(--fill-color);\n",
              "      border-top-color: var(--fill-color);\n",
              "    }\n",
              "    30% {\n",
              "      border-color: transparent;\n",
              "      border-left-color: var(--fill-color);\n",
              "      border-top-color: var(--fill-color);\n",
              "      border-right-color: var(--fill-color);\n",
              "    }\n",
              "    40% {\n",
              "      border-color: transparent;\n",
              "      border-right-color: var(--fill-color);\n",
              "      border-top-color: var(--fill-color);\n",
              "    }\n",
              "    60% {\n",
              "      border-color: transparent;\n",
              "      border-right-color: var(--fill-color);\n",
              "    }\n",
              "    80% {\n",
              "      border-color: transparent;\n",
              "      border-right-color: var(--fill-color);\n",
              "      border-bottom-color: var(--fill-color);\n",
              "    }\n",
              "    90% {\n",
              "      border-color: transparent;\n",
              "      border-bottom-color: var(--fill-color);\n",
              "    }\n",
              "  }\n",
              "</style>\n",
              "\n",
              "      <script>\n",
              "        async function quickchart(key) {\n",
              "          const quickchartButtonEl =\n",
              "            document.querySelector('#' + key + ' button');\n",
              "          quickchartButtonEl.disabled = true;  // To prevent multiple clicks.\n",
              "          quickchartButtonEl.classList.add('colab-df-spinner');\n",
              "          try {\n",
              "            const charts = await google.colab.kernel.invokeFunction(\n",
              "                'suggestCharts', [key], {});\n",
              "          } catch (error) {\n",
              "            console.error('Error during call to suggestCharts:', error);\n",
              "          }\n",
              "          quickchartButtonEl.classList.remove('colab-df-spinner');\n",
              "          quickchartButtonEl.classList.add('colab-df-quickchart-complete');\n",
              "        }\n",
              "        (() => {\n",
              "          let quickchartButtonEl =\n",
              "            document.querySelector('#df-d32a8362-8b9d-4180-a6e7-9e09cf973ecc button');\n",
              "          quickchartButtonEl.style.display =\n",
              "            google.colab.kernel.accessAllowed ? 'block' : 'none';\n",
              "        })();\n",
              "      </script>\n",
              "    </div>\n",
              "\n",
              "    </div>\n",
              "  </div>\n"
            ],
            "application/vnd.google.colaboratory.intrinsic+json": {
              "type": "dataframe",
              "variable_name": "news_dataset",
              "summary": "{\n  \"name\": \"news_dataset\",\n  \"rows\": 11397,\n  \"fields\": [\n    {\n      \"column\": \"id\",\n      \"properties\": {\n        \"dtype\": \"number\",\n        \"std\": 3290,\n        \"min\": 0,\n        \"max\": 11396,\n        \"num_unique_values\": 11397,\n        \"samples\": [\n          1766,\n          2628,\n          304\n        ],\n        \"semantic_type\": \"\",\n        \"description\": \"\"\n      }\n    },\n    {\n      \"column\": \"title\",\n      \"properties\": {\n        \"dtype\": \"string\",\n        \"num_unique_values\": 10945,\n        \"samples\": [\n          \"What Is At Stake In This Election \\u00e2\\u0080\\u0094 Paul Craig Roberts\",\n          \"F.B.I. Director Testifies on Clinton Emails to Withering Criticism From G.O.P. - The New York Times\",\n          \"Americans Are So Disconnected From Reality That \\u00e2\\u0080\\u009cInsouciant\\u00e2\\u0080\\u009d Has Become An Euphemism\"\n        ],\n        \"semantic_type\": \"\",\n        \"description\": \"\"\n      }\n    },\n    {\n      \"column\": \"author\",\n      \"properties\": {\n        \"dtype\": \"category\",\n        \"num_unique_values\": 2893,\n        \"samples\": [\n          \"Jer\\u00c3\\u00a9 Longman and Carla Correa\",\n          \"Mark Landler and Jane Perlez\",\n          \"Katie Rogers and Gia Kourlas\"\n        ],\n        \"semantic_type\": \"\",\n        \"description\": \"\"\n      }\n    },\n    {\n      \"column\": \"text\",\n      \"properties\": {\n        \"dtype\": \"string\",\n        \"num_unique_values\": 11205,\n        \"samples\": [\n          \"While discussing the New York Times\\u00e2\\u0080\\u0099  report that President Trump called FBI Director James Comey a \\u00e2\\u0080\\u009cnutjob\\u00e2\\u0080\\u009d and told Russian officials that firing Comey relieved \\u00e2\\u0080\\u009cgreat pressure\\u00e2\\u0080\\u009d on Friday\\u00e2\\u0080\\u0099s broadcast of CNN\\u00e2\\u0080\\u0099s \\u00e2\\u0080\\u009cSituation Room,\\u00e2\\u0080\\u009d CNN Political Director David Chalian argued the Trump White House does have a point about leaks, and that while \\u00e2\\u0080\\u009cIt\\u00e2\\u0080\\u0099s not going to save them from their real legal and political troubles,\\u00e2\\u0080\\u009d \\u00e2\\u0080\\u009cthere are people in this government who seem pretty committed to taking him down. \\u00e2\\u0080\\u009d  Chalian began by saying, \\u00e2\\u0080\\u009cWe saw that the White House tried to explain what he meant by pressure was that the grandstanding and politicization of Comey put such pressure  \\u00e2\\u0080\\u0094   nobody is going to buy that excuse.   \\u00e2\\u0080\\u00a6     They  \\u00e2\\u0080\\u0094   clearly, the president is saying here that he felt pressure was alleviated on this investigation by getting rid of Comey. So, that\\u00e2\\u0080\\u0099s going to be legal problem one, potentially. \\u00e2\\u0080\\u009d He continued, \\u00e2\\u0080\\u009cSecondly, think about this, Wolf. This is extraordinary. This is the official government document of a meeting of the president of the United States and Russian officials inside the Oval Office, and it\\u00e2\\u0080\\u0099s being read to a New York Times reporter. They have a point about leaks. It\\u00e2\\u0080\\u0099s not going to save them from their real legal and political troubles, but it is extraordinary to see and another warning sign to Donald Trump that there are people in this government who seem pretty committed to taking him down. \\u00e2\\u0080\\u009d Later on, Chalian added that Trump has \\u00e2\\u0080\\u009cgone back and forth\\u00e2\\u0080\\u009d about his rationale for firing Comey. Follow Ian Hanchett on Twitter @IanHanchett\",\n          \"On Friday\\u00e2\\u0080\\u0099s broadcast of CNN\\u00e2\\u0080\\u0099s \\u00e2\\u0080\\u009cThe Messy Truth,\\u00e2\\u0080\\u009d HBO host Bill Maher argued that there\\u00e2\\u0080\\u0099s \\u00e2\\u0080\\u009ca problem on the left,\\u00e2\\u0080\\u009d and cited as an example, \\u00e2\\u0080\\u009cthey see a woman who is forced to wear the full burqa  \\u00e2\\u0080\\u00a6    and that gets nothing. That doesn\\u00e2\\u0080\\u0099t rise to the level of we\\u00e2\\u0080\\u0099re protesting that, but \\u00e2\\u0080\\u0098The Vagina Monologues\\u00e2\\u0080\\u0099 not including Caitlyn Jenner? That\\u00e2\\u0080\\u0099s where we\\u00e2\\u0080\\u0099re going to go nuts. \\u00e2\\u0080\\u009d  Maher said, after talking about colleges that have canceled \\u00e2\\u0080\\u009cThe Vagina Monologues,\\u00e2\\u0080\\u009d \\u00e2\\u0080\\u009cI mean, this is what\\u00e2\\u0080\\u0099s crazy, you know, they see a woman who is forced to wear the full burqa. You know, she can\\u00e2\\u0080\\u0099t even look out on the full world, and that gets nothing. That doesn\\u00e2\\u0080\\u0099t rise to the level of we\\u00e2\\u0080\\u0099re protesting that, but \\u00e2\\u0080\\u0098The Vagina Monologues\\u00e2\\u0080\\u0099 not including Caitlyn Jenner? That\\u00e2\\u0080\\u0099s where we\\u00e2\\u0080\\u0099re going to go nuts. This is a problem on the left, and they are going to have to deal with it, because they lost the last election, okay? You lost. It would behoove you to look in the mirror. \\u00e2\\u0080\\u009d Follow Ian Hanchett on Twitter @IanHanchett\",\n          \"The blueprint for the Trump administration\\u00e2\\u0080\\u0099s FY 2018 budget released on Thursday \\u00e2\\u0080\\u009callows for significant funding of humanitarian assistance, including food aid, disaster, and refugee program funding\\u00e2\\u0080\\u009d in the State Department. [\\u00e2\\u0080\\u009cThis would focus funding on the highest priority areas while asking the rest of the world to pay their fair share,\\u00e2\\u0080\\u009d the blueprint states.  \\u00e2\\u0080\\u009cTaken together with the executive order, it looks like the president will keep the refugee program with a lower annual number, like the 50, 000 limit specified in Executive Order 13780, and when the annual determination is released, identify countries of concern in a way that excludes Somalia, and other countries of concern that are known to harbor terrorists,\\u00e2\\u0080\\u009d a source familiar with the federal refugee resettlement program tells Breitbart News. \\u00e2\\u0080\\u009cAs long as he keeps the refugee program going, we are going to get more people from countries related to real security issues and regardless, the program needs to be legislatively reformed and regulations that have caused Constitutional violations repealed before restarting in FY 2018,\\u00e2\\u0080\\u009d the source adds. The language of the blueprint, however, could be interpreted to suggest that the Trump administration\\u00e2\\u0080\\u0099s \\u00e2\\u0080\\u009csignificant funding of . . . [the] refugee program\\u00e2\\u0080\\u009d defines the program broadly to include safe zones in other parts of the world in addition to the federal refugee resettlement program. As such, a further reduction of refugees resettled in the United States in FY 2018 could be entirely possible. President Trump supported the establishment of safe zones for refugees during the campaign. Typically, the president releases an annual determination of the number of refugees to be allowed into the country in the month preceding the start of a new fiscal year, which begins on October 1. Under the Refugee Act of 1980, that number is determined at the sole discretion of the president. Subsequent to the president\\u00e2\\u0080\\u0099s determination of that number, Congress has traditionally funded the refugee resettlement program at the level set by the president for the coming fiscal year. FY 2017 has proceeded differently. In September, President Obama announced a determination that he wanted Congress to fund the arrival of 110, 000 refugees in the United States in FY 2017, an increase from 84, 995 that arrived in FY 2016. Congress, caught up in an election year in which the number of refugees to be resettled, as well as their vetting and countries of origin, were key issues in the Presidential campaign, did not pass a budget for the full fiscal year prior to the beginning of FY 2017. Instead, Congress passed a temporary continuing resolution that extended the FY 2016 budget through the first ten weeks of FY 2017, then renewed an additional continuing resolution in December that runs out at the end of April. That budget funds refugee resettlement at the FY 2016 level of 84, 995 annually for a little more than a month more. Come April 28, there will be no budget authority for any discretionary budget activities \\u00e2\\u0080\\u0094  including refugee resettlement \\u00e2\\u0080\\u0094  unless Congress passes funding authority for the balance of FY 2017. Given the contentious current political environment of Washington, it is uncertain whether Congress will have such funding authority in place prior to that date. During the three months and 20 days of FY 2017, the final days of the Obama administration, 30, 122 refugees were resettled in the United States, which corresponds to an annualized rate of 83, 292. In the subsequent 55 days since the start of the Trump administration, 7, 989 refugees have been resettled in the United States, which corresponds to an annualized rate of 53, 018. To date, 38, 111 refugees have been resettled in the United States, which would leave room for a maximum of 11, 899 over the remaining six months and fourteen days of FY 2017, under President Trump\\u00e2\\u0080\\u0099s 50, 000 level set in Executive Order 13769 signed on January 27, then set again in Executive Order 13780 signed on March 6. On Wednesday, 9th Circuit Court Federal District Judge Derrick Watson, an Obama appointee and 1991 Harvard Law School classmate of the former president, struck down Executive Order 13780 hours before it was scheduled for implementation. He based his   decision, issued just two hours after the hearing was concluded, on campaign statements made by President Trump prior to his election and a leaked \\u00e2\\u0080\\u009cdraft document\\u00e2\\u0080\\u009d from the office of a Department of Homeland Security Obama holdover whom Breitbart News had identified as one of eight top Department of Homeland Security Obama holdovers President Trump could \\u00e2\\u0080\\u009cfire or remove. \\u00e2\\u0080\\u009d In striking down Section 6, the portion of Executive Order 13780 in which President Trump limited the number of refugees to 50, 000 annually, Judge Watson \\u00e2\\u0080\\u0094  for one of the first times in American history \\u00e2\\u0080\\u0094  asserted the supremacy of the judicial branch over the legislative and executive branches. Not even Judge James Robart, who stopped the first executive order of the same title (Executive Order 13769) went that far in his usurpations. Robart notably excluded Section 5 d of Executive Order 13769, in which President Trump limited the number of refugees in FY 2017 to 50, 000, from his temporary restraining order. Also on Wednesday, 4th Circuit Court Federal District Judge Theodore Chuang, another Harvard Law School graduate Obama appointee and former bureaucrat in the Department of Homeland Security and the State Department, issued a similar ruling. Though Chuang did not strike down President Trump\\u00e2\\u0080\\u0099s statutory and Constitutional authority to limit the number of refugees on Wednesday, he did schedule a March 29 hearing  on plaintiffs motion to enjoin the \\u00e2\\u0080\\u009cspecific provision of the First Executive Order [Section 5 d of Executive Order 13679]\\u00e2\\u0080\\u009d in which the president set the annual refugee limit for FY 2017 at 50, 000. \\u00e2\\u0080\\u009cThe Court will resolve that Motion, which the parties have agreed should be construed to apply to the successor provision of the Second Executive Order [13780]  in accordance with the previously established schedule,\\u00e2\\u0080\\u009d Chuang wrote in his decision. HIAS, one of the nine major voluntary agencies (VOLAGs) paid more than $1 billion annually by the federal government to resettle refugees, is one of the plaintiffs in the Maryland case. HIAS hopes to persuade Judge Chuang to double the number of refugees to 100, 000 in FY 2017. Should he rule in favor of HIAS on March 28, Chuang will accelerate the pending Constitutional crisis that may be set off by Judge Watson\\u00e2\\u0080\\u0099s decision, as respected attorney Paul Mirengoff wrote at Powerline Blog and Rush Limbaugh suggested in his nationally syndicated radio program. As to the number refugees who will be resettled in the United States during the balance of FY 2017, President Trump may take a page from President Andrew Jackson, whose tomb he honored during his visit to Nashville on Wednesday. \\u00e2\\u0080\\u009cJohn Marshall has made his decision now let him enforce it,\\u00e2\\u0080\\u009d President Jackson said of an 1832 Supreme Court decision unfavorable to his policies issued by the Marshall Court. President Trump\\u00e2\\u0080\\u0099s attitude to the unfavorable decision issued by Judge Watson regarding a president\\u00e2\\u0080\\u0099s Constitutional and statutory authority to limit the number of refugees arriving in the United States, a decision Judge Chuang may agree with on March 28,  may well be something like this: \\u00e2\\u0080\\u009cJudge Watson has made his decision now let him pay for it. \\u00e2\\u0080\\u009d\"\n        ],\n        \"semantic_type\": \"\",\n        \"description\": \"\"\n      }\n    },\n    {\n      \"column\": \"label\",\n      \"properties\": {\n        \"dtype\": \"number\",\n        \"std\": 0,\n        \"min\": 0,\n        \"max\": 1,\n        \"num_unique_values\": 2,\n        \"samples\": [\n          0,\n          1\n        ],\n        \"semantic_type\": \"\",\n        \"description\": \"\"\n      }\n    },\n    {\n      \"column\": \"content\",\n      \"properties\": {\n        \"dtype\": \"string\",\n        \"num_unique_values\": 11241,\n        \"samples\": [\n          \"Magdy Samaan and Declan Walsh Egypt Declares State of Emergency, as Attacks Undercut Promise of Security - The New York Times\",\n          \"Bettina Elias Siegel New Rules May Curb Classroom Cupcakes - The New York Times\"\n        ],\n        \"semantic_type\": \"\",\n        \"description\": \"\"\n      }\n    }\n  ]\n}"
            }
          },
          "metadata": {},
          "execution_count": 12
        }
      ]
    },
    {
      "cell_type": "code",
      "source": [
        "# separating feature and target\n",
        "X = news_dataset.drop(columns='label', axis =1)\n",
        "Y = news_dataset['label']"
      ],
      "metadata": {
        "id": "u6TMcUX5Uf7b"
      },
      "execution_count": 14,
      "outputs": []
    },
    {
      "cell_type": "code",
      "source": [
        "print(X)"
      ],
      "metadata": {
        "colab": {
          "base_uri": "https://localhost:8080/"
        },
        "id": "ApoVLLE-Uim3",
        "outputId": "e0ee3f49-82c7-4376-8f85-0eafc251b9cb"
      },
      "execution_count": 15,
      "outputs": [
        {
          "output_type": "stream",
          "name": "stdout",
          "text": [
            "          id                                              title  \\\n",
            "0          0  House Dem Aide: We Didnât Even See Comeyâs...   \n",
            "1          1  FLYNN: Hillary Clinton, Big Woman on Campus - ...   \n",
            "2          2                  Why the Truth Might Get You Fired   \n",
            "3          3  15 Civilians Killed In Single US Airstrike Hav...   \n",
            "4          4  Iranian woman jailed for fictional unpublished...   \n",
            "...      ...                                                ...   \n",
            "11392  11392  Three Arrested for Starting Massive Fire on At...   \n",
            "11393  11393  Oh Myâ¦ WikiLeaks Email Between Stratfor Inte...   \n",
            "11394  11394                                                      \n",
            "11395  11395  Comment on Censored News: Black woman kills 12...   \n",
            "11396  11396  ICE Deporting 199 Iraqis after Trump Inks Repa...   \n",
            "\n",
            "                    author                                               text  \\\n",
            "0            Darrell Lucus  House Dem Aide: We Didnât Even See Comeyâs...   \n",
            "1          Daniel J. Flynn  Ever get the feeling your life circles the rou...   \n",
            "2       Consortiumnews.com  Why the Truth Might Get You Fired October 29, ...   \n",
            "3          Jessica Purkiss  Videos 15 Civilians Killed In Single US Airstr...   \n",
            "4           Howard Portnoy  Print \\nAn Iranian woman has been sentenced to...   \n",
            "...                    ...                                                ...   \n",
            "11392  Katherine Rodriguez  Three people were arrested Friday in connectio...   \n",
            "11393         LN Buzz Team  Vince Foster is a name most of us probably hav...   \n",
            "11394            starmount                                      cool and true   \n",
            "11395           TNB â PA  Posted on August 16, 2013 by Dr. Eowyn | 143 C...   \n",
            "11396            Bob Price  Immigration officials are set to deport 199 Ir...   \n",
            "\n",
            "                                                 content  \n",
            "0      Darrell Lucus House Dem Aide: We Didnât Even...  \n",
            "1      Daniel J. Flynn FLYNN: Hillary Clinton, Big Wo...  \n",
            "2      Consortiumnews.com Why the Truth Might Get You...  \n",
            "3      Jessica Purkiss 15 Civilians Killed In Single ...  \n",
            "4      Howard Portnoy Iranian woman jailed for fictio...  \n",
            "...                                                  ...  \n",
            "11392  Katherine Rodriguez Three Arrested for Startin...  \n",
            "11393  LN Buzz Team Oh Myâ¦ WikiLeaks Email Between ...  \n",
            "11394                                         starmount   \n",
            "11395  TNB â PA Comment on Censored News: Black wom...  \n",
            "11396  Bob Price ICE Deporting 199 Iraqis after Trump...  \n",
            "\n",
            "[11397 rows x 5 columns]\n"
          ]
        }
      ]
    },
    {
      "cell_type": "code",
      "source": [
        "print(Y)"
      ],
      "metadata": {
        "colab": {
          "base_uri": "https://localhost:8080/"
        },
        "id": "8h1RkdXsUnDD",
        "outputId": "1b5da0f0-831f-4b6b-81ed-8df44c80eb9e"
      },
      "execution_count": 16,
      "outputs": [
        {
          "output_type": "stream",
          "name": "stdout",
          "text": [
            "0        1\n",
            "1        0\n",
            "2        1\n",
            "3        1\n",
            "4        1\n",
            "        ..\n",
            "11392    0\n",
            "11393    1\n",
            "11394    1\n",
            "11395    1\n",
            "11396    0\n",
            "Name: label, Length: 11397, dtype: int64\n"
          ]
        }
      ]
    },
    {
      "cell_type": "markdown",
      "source": [
        "Stemming:\n",
        "\n",
        "Stemming is the process of reducing a word to its Root Word"
      ],
      "metadata": {
        "id": "Y_5U2C_-UyNM"
      }
    },
    {
      "cell_type": "code",
      "source": [
        "port_stem = PorterStemmer()"
      ],
      "metadata": {
        "id": "SF4uXnzCUoGK"
      },
      "execution_count": 17,
      "outputs": []
    },
    {
      "cell_type": "code",
      "source": [
        "def stemming(content):\n",
        "  stemmed_content = re.sub('[^a-zA-Z]',' ',content)\n",
        "  stemmed_content = stemmed_content.lower()\n",
        "  stemmed_content = stemmed_content.split()\n",
        "  stemmed_content = [port_stem.stem(word) for word in stemmed_content if not word in stopwords.words('english')]\n",
        "  stemmed_content = ' '.join(stemmed_content)\n",
        "  return stemmed_content"
      ],
      "metadata": {
        "id": "pnSc0x97U0sy"
      },
      "execution_count": 18,
      "outputs": []
    },
    {
      "cell_type": "code",
      "source": [
        "news_dataset['content'] = news_dataset['content'].apply(stemming)"
      ],
      "metadata": {
        "id": "cCiBt7vMU2R6"
      },
      "execution_count": 20,
      "outputs": []
    },
    {
      "cell_type": "code",
      "source": [
        "print(news_dataset['content'])"
      ],
      "metadata": {
        "colab": {
          "base_uri": "https://localhost:8080/"
        },
        "id": "1WzVJrH_U4MD",
        "outputId": "b0cffc82-9ac2-43e1-e537-44b5e1ef529b"
      },
      "execution_count": 21,
      "outputs": [
        {
          "output_type": "stream",
          "name": "stdout",
          "text": [
            "0        darrel lucu hous dem aid even see comey letter...\n",
            "1        daniel j flynn flynn hillari clinton big woman...\n",
            "2                   consortiumnew com truth might get fire\n",
            "3        jessica purkiss civilian kill singl us airstri...\n",
            "4        howard portnoy iranian woman jail fiction unpu...\n",
            "                               ...                        \n",
            "11392    katherin rodriguez three arrest start massiv f...\n",
            "11393    ln buzz team oh wikileak email stratfor intel ...\n",
            "11394                                            starmount\n",
            "11395    tnb pa comment censor news black woman kill wh...\n",
            "11396    bob price ice deport iraqi trump ink repatri deal\n",
            "Name: content, Length: 11397, dtype: object\n"
          ]
        }
      ]
    },
    {
      "cell_type": "code",
      "source": [
        "X = news_dataset['content'].values\n",
        "Y = news_dataset['label'].values"
      ],
      "metadata": {
        "id": "JUTBjsuSVCbs"
      },
      "execution_count": 23,
      "outputs": []
    },
    {
      "cell_type": "code",
      "source": [
        "print(X)"
      ],
      "metadata": {
        "colab": {
          "base_uri": "https://localhost:8080/"
        },
        "id": "OZYIzPUsVE3I",
        "outputId": "72e51379-a70d-4a5e-85fd-2a079c445c00"
      },
      "execution_count": 24,
      "outputs": [
        {
          "output_type": "stream",
          "name": "stdout",
          "text": [
            "['darrel lucu hous dem aid even see comey letter jason chaffetz tweet'\n",
            " 'daniel j flynn flynn hillari clinton big woman campu breitbart'\n",
            " 'consortiumnew com truth might get fire' ... 'starmount'\n",
            " 'tnb pa comment censor news black woman kill white boy blow torch tnb pa'\n",
            " 'bob price ice deport iraqi trump ink repatri deal']\n"
          ]
        }
      ]
    },
    {
      "cell_type": "code",
      "source": [
        "print(Y)"
      ],
      "metadata": {
        "colab": {
          "base_uri": "https://localhost:8080/"
        },
        "id": "OtVExPTUVIpz",
        "outputId": "21da774a-6273-46b2-83f4-7b1a386029f1"
      },
      "execution_count": 25,
      "outputs": [
        {
          "output_type": "stream",
          "name": "stdout",
          "text": [
            "[1 0 1 ... 1 1 0]\n"
          ]
        }
      ]
    },
    {
      "cell_type": "code",
      "source": [
        "Y.shape"
      ],
      "metadata": {
        "colab": {
          "base_uri": "https://localhost:8080/"
        },
        "id": "YbbGL-08VJpi",
        "outputId": "c216fb67-92fd-4cbf-be1e-c72fc24aec40"
      },
      "execution_count": 26,
      "outputs": [
        {
          "output_type": "execute_result",
          "data": {
            "text/plain": [
              "(11397,)"
            ]
          },
          "metadata": {},
          "execution_count": 26
        }
      ]
    },
    {
      "cell_type": "code",
      "source": [
        "# converting the textual data to feature vectors\n",
        "vectorizer = TfidfVectorizer()\n",
        "vectorizer.fit(X)\n",
        "\n",
        "X = vectorizer.transform(X)\n",
        ""
      ],
      "metadata": {
        "id": "kQ_fGBeXVL8L"
      },
      "execution_count": 27,
      "outputs": []
    },
    {
      "cell_type": "code",
      "source": [
        "print(X)"
      ],
      "metadata": {
        "id": "JDPzo4WOVOBu",
        "outputId": "4d4d895c-a169-4584-83d7-f6ea60b05546",
        "colab": {
          "base_uri": "https://localhost:8080/"
        }
      },
      "execution_count": 28,
      "outputs": [
        {
          "output_type": "stream",
          "name": "stdout",
          "text": [
            "<Compressed Sparse Row sparse matrix of dtype 'float64'\n",
            "\twith 115415 stored elements and shape (11397, 13070)>\n",
            "  Coords\tValues\n",
            "  (0, 220)\t0.2744532428202811\n",
            "  (0, 1926)\t0.3683026479343919\n",
            "  (0, 2291)\t0.24753616371057055\n",
            "  (0, 2787)\t0.3559095383289156\n",
            "  (0, 2937)\t0.27131882903925914\n",
            "  (0, 3840)\t0.23783638021346015\n",
            "  (0, 5399)\t0.22501117885772176\n",
            "  (0, 5920)\t0.24582983426985566\n",
            "  (0, 6628)\t0.2887859359853237\n",
            "  (0, 6839)\t0.3559095383289156\n",
            "  (0, 10306)\t0.2612548913337051\n",
            "  (0, 12018)\t0.2855125249395007\n",
            "  (1, 1179)\t0.2880075654568842\n",
            "  (1, 1483)\t0.15153491395419627\n",
            "  (1, 1728)\t0.3811856274653655\n",
            "  (1, 2174)\t0.1885038505349307\n",
            "  (1, 2763)\t0.2648139521049962\n",
            "  (1, 4263)\t0.7222375895049578\n",
            "  (1, 5264)\t0.1877176969808806\n",
            "  (1, 12825)\t0.29370245003511364\n",
            "  (2, 2277)\t0.31980064355028776\n",
            "  (2, 2407)\t0.45732294873998436\n",
            "  (2, 4177)\t0.3864480997616394\n",
            "  (2, 4613)\t0.3454378282810494\n",
            "  (2, 7366)\t0.48962804150853995\n",
            "  :\t:\n",
            "  (11393, 11531)\t0.222850828972591\n",
            "  (11393, 12427)\t0.3139497496339345\n",
            "  (11393, 12746)\t0.20281149912656155\n",
            "  (11394, 11064)\t1.0\n",
            "  (11395, 1236)\t0.163211223529879\n",
            "  (11395, 1303)\t0.2320250376574587\n",
            "  (11395, 1423)\t0.2137935473169371\n",
            "  (11395, 1896)\t0.25327433157429047\n",
            "  (11395, 2301)\t0.1550589939638347\n",
            "  (11395, 6250)\t0.1574868783479893\n",
            "  (11395, 7890)\t0.13428013768201524\n",
            "  (11395, 8355)\t0.5147358069142388\n",
            "  (11395, 11740)\t0.5915458388159083\n",
            "  (11395, 11789)\t0.26209358538297356\n",
            "  (11395, 12707)\t0.16162861402855905\n",
            "  (11395, 12825)\t0.181928722187113\n",
            "  (11396, 1323)\t0.2826808966297142\n",
            "  (11396, 2832)\t0.2879348636184836\n",
            "  (11396, 2989)\t0.32128464400156564\n",
            "  (11396, 5510)\t0.3323302883107985\n",
            "  (11396, 5701)\t0.4446934959224051\n",
            "  (11396, 5817)\t0.3355390479441853\n",
            "  (11396, 9035)\t0.2832371289840206\n",
            "  (11396, 9594)\t0.4642018668537942\n",
            "  (11396, 11948)\t0.13218312886687172\n"
          ]
        }
      ]
    }
  ]
}